{
  "nbformat": 4,
  "nbformat_minor": 0,
  "metadata": {
    "colab": {
      "provenance": []
    },
    "kernelspec": {
      "name": "python3",
      "display_name": "Python 3"
    },
    "language_info": {
      "name": "python"
    }
  },
  "cells": [
    {
      "cell_type": "markdown",
      "source": [
        "1. Simular un compte enrere"
      ],
      "metadata": {
        "id": "VBVX6996fSmH"
      }
    },
    {
      "cell_type": "code",
      "execution_count": null,
      "metadata": {
        "colab": {
          "base_uri": "https://localhost:8080/"
        },
        "id": "DTHGJLr4c4es",
        "outputId": "d7757c22-507d-476d-fa79-d8877dd1a72b"
      },
      "outputs": [
        {
          "output_type": "stream",
          "name": "stdout",
          "text": [
            "10\n",
            "9\n",
            "8\n",
            "7\n",
            "6\n",
            "5\n",
            "4\n",
            "3\n",
            "2\n",
            "1\n",
            "0\n"
          ]
        }
      ],
      "source": [
        "a = 10\n",
        "\n",
        "while a >= 0:\n",
        "\n",
        "    print(a)\n",
        "\n",
        "    a -= 1"
      ]
    },
    {
      "cell_type": "markdown",
      "source": [
        "\n",
        "Escriure els múltiples de 2 menors o iguals a 100"
      ],
      "metadata": {
        "id": "wqCDCPOffhD3"
      }
    },
    {
      "cell_type": "code",
      "source": [
        "multiples = 2\n",
        "\n",
        "while multiples <= 100:\n",
        "\n",
        "    print(multiples)\n",
        "\n",
        "    multiples += 2"
      ],
      "metadata": {
        "colab": {
          "base_uri": "https://localhost:8080/"
        },
        "id": "bwlQAGuKfmbM",
        "outputId": "b6207d71-d2d7-4ad1-d824-6cfb54eff41b"
      },
      "execution_count": null,
      "outputs": [
        {
          "output_type": "stream",
          "name": "stdout",
          "text": [
            "2\n",
            "4\n",
            "6\n",
            "8\n",
            "10\n",
            "12\n",
            "14\n",
            "16\n",
            "18\n",
            "20\n",
            "22\n",
            "24\n",
            "26\n",
            "28\n",
            "30\n",
            "32\n",
            "34\n",
            "36\n",
            "38\n",
            "40\n",
            "42\n",
            "44\n",
            "46\n",
            "48\n",
            "50\n",
            "52\n",
            "54\n",
            "56\n",
            "58\n",
            "60\n",
            "62\n",
            "64\n",
            "66\n",
            "68\n",
            "70\n",
            "72\n",
            "74\n",
            "76\n",
            "78\n",
            "80\n",
            "82\n",
            "84\n",
            "86\n",
            "88\n",
            "90\n",
            "92\n",
            "94\n",
            "96\n",
            "98\n",
            "100\n"
          ]
        }
      ]
    },
    {
      "cell_type": "markdown",
      "source": [
        "Escriure els 10 primers múltiples de 2"
      ],
      "metadata": {
        "id": "0xeB0STOmDBJ"
      }
    },
    {
      "cell_type": "code",
      "source": [
        "multiples = 2\n",
        "\n",
        "while multiples <= 10:\n",
        "\n",
        "    print(multiples)\n",
        "\n",
        "    multiples += 2"
      ],
      "metadata": {
        "colab": {
          "base_uri": "https://localhost:8080/"
        },
        "id": "BB78z0lymJJj",
        "outputId": "099fbfa7-1bf2-4a6a-9edf-eb63c1c3d28c"
      },
      "execution_count": null,
      "outputs": [
        {
          "output_type": "stream",
          "name": "stdout",
          "text": [
            "2\n",
            "4\n",
            "6\n",
            "8\n",
            "10\n"
          ]
        }
      ]
    },
    {
      "cell_type": "markdown",
      "source": [
        "4. Escriure els n primers múltiples de m"
      ],
      "metadata": {
        "id": "KXM0AalJmOaj"
      }
    },
    {
      "cell_type": "code",
      "source": [
        "??\n"
      ],
      "metadata": {
        "id": "TD4ZnlQ5mOug"
      },
      "execution_count": null,
      "outputs": []
    },
    {
      "cell_type": "markdown",
      "source": [
        "5. Llegeix els quatre nombres que conformen una adreça IP, valida si és una IP\n",
        "correcta i ho escriu."
      ],
      "metadata": {
        "id": "AfRUW4EemO4y"
      }
    },
    {
      "cell_type": "code",
      "source": [
        "IP = input(\"Entra una IP\")\n",
        "ip_parts = IP.split('.')\n",
        "\n",
        "while IP > 255:\n",
        "  print(f\"{IP}Ip no es valida\")"
      ],
      "metadata": {
        "id": "4yTUqHtSmRAa",
        "colab": {
          "base_uri": "https://localhost:8080/",
          "height": 216
        },
        "outputId": "5715adae-bcab-4677-dd66-1db721accf5c"
      },
      "execution_count": null,
      "outputs": [
        {
          "name": "stdout",
          "output_type": "stream",
          "text": [
            "Entra una IP500.500.500.500\n"
          ]
        },
        {
          "output_type": "error",
          "ename": "TypeError",
          "evalue": "'>' not supported between instances of 'str' and 'int'",
          "traceback": [
            "\u001b[0;31m---------------------------------------------------------------------------\u001b[0m",
            "\u001b[0;31mTypeError\u001b[0m                                 Traceback (most recent call last)",
            "\u001b[0;32m/tmp/ipython-input-4-1982144978.py\u001b[0m in \u001b[0;36m<cell line: 0>\u001b[0;34m()\u001b[0m\n\u001b[1;32m      1\u001b[0m \u001b[0mIP\u001b[0m \u001b[0;34m=\u001b[0m \u001b[0minput\u001b[0m\u001b[0;34m(\u001b[0m\u001b[0;34m\"Entra una IP\"\u001b[0m\u001b[0;34m)\u001b[0m\u001b[0;34m\u001b[0m\u001b[0;34m\u001b[0m\u001b[0m\n\u001b[1;32m      2\u001b[0m \u001b[0mip_parts\u001b[0m \u001b[0;34m=\u001b[0m \u001b[0mIP\u001b[0m\u001b[0;34m.\u001b[0m\u001b[0msplit\u001b[0m\u001b[0;34m(\u001b[0m\u001b[0;34m'.'\u001b[0m\u001b[0;34m)\u001b[0m\u001b[0;34m\u001b[0m\u001b[0;34m\u001b[0m\u001b[0m\n\u001b[0;32m----> 3\u001b[0;31m \u001b[0;32mwhile\u001b[0m \u001b[0mIP\u001b[0m \u001b[0;34m>\u001b[0m \u001b[0;36m255\u001b[0m\u001b[0;34m:\u001b[0m\u001b[0;34m\u001b[0m\u001b[0;34m\u001b[0m\u001b[0m\n\u001b[0m\u001b[1;32m      4\u001b[0m   \u001b[0mprint\u001b[0m\u001b[0;34m(\u001b[0m\u001b[0;34mf\"{IP}Ip no es valida\"\u001b[0m\u001b[0;34m)\u001b[0m\u001b[0;34m\u001b[0m\u001b[0;34m\u001b[0m\u001b[0m\n",
            "\u001b[0;31mTypeError\u001b[0m: '>' not supported between instances of 'str' and 'int'"
          ]
        }
      ]
    },
    {
      "cell_type": "markdown",
      "source": [
        "6. Sumar els múltiples de 2 menors a 100"
      ],
      "metadata": {
        "id": "MXParubrmRQT"
      }
    },
    {
      "cell_type": "code",
      "source": [
        "multiples = 2\n",
        "suma = 0\n",
        "\n",
        "while multiples < 100:\n",
        "    suma += multiples\n",
        "    multiples += 2\n",
        "\n",
        "print(\"La suma es:\", suma)\n"
      ],
      "metadata": {
        "colab": {
          "base_uri": "https://localhost:8080/"
        },
        "id": "GVXqnHRBmUQU",
        "outputId": "70312b23-d461-49e4-b660-ccfffb4eb8ee"
      },
      "execution_count": null,
      "outputs": [
        {
          "output_type": "stream",
          "name": "stdout",
          "text": [
            "La suma es: 2450\n"
          ]
        }
      ]
    },
    {
      "cell_type": "markdown",
      "source": [
        "7. Sumar les potències de 2 menors a 100"
      ],
      "metadata": {
        "id": "rbmgCJyvmTvS"
      }
    },
    {
      "cell_type": "code",
      "source": [
        "n = 1\n",
        "suma = 0\n",
        "\n",
        "while n < 100:\n",
        "    suma += n\n",
        "    n *= 2\n",
        "\n",
        "print(suma)\n"
      ],
      "metadata": {
        "colab": {
          "base_uri": "https://localhost:8080/"
        },
        "id": "6gjW1PMCmUjS",
        "outputId": "60a8a22d-aeb8-4efa-b2c5-b9ef9a1686ec"
      },
      "execution_count": null,
      "outputs": [
        {
          "output_type": "stream",
          "name": "stdout",
          "text": [
            "127\n"
          ]
        }
      ]
    },
    {
      "cell_type": "markdown",
      "source": [
        "8. Calcular la mitjana dels números positius llegits"
      ],
      "metadata": {
        "id": "DIVJnKGamXHr"
      }
    },
    {
      "cell_type": "code",
      "source": [
        "suma = 0\n",
        "cont = 0\n",
        "n = int(input(\"Número (negativo para salir): \"))\n",
        "\n",
        "while n >= 0:\n",
        "    suma += n\n",
        "    cont += 1\n",
        "    n = int(input(\"Número: \"))\n",
        "\n",
        "print(\"Media:\", suma / cont if cont > 0 else \"No hay datos\")\n",
        "\n"
      ],
      "metadata": {
        "colab": {
          "base_uri": "https://localhost:8080/"
        },
        "id": "du9g-eTsmZDs",
        "outputId": "0a9929ed-5b84-4fbb-c637-ef3c1c5a1157"
      },
      "execution_count": null,
      "outputs": [
        {
          "output_type": "stream",
          "name": "stdout",
          "text": [
            "Número (negativo para salir): 6\n",
            "Número: 34\n",
            "Número: 9\n",
            "Número: -7\n",
            "Media: 16.333333333333332\n"
          ]
        }
      ]
    },
    {
      "cell_type": "markdown",
      "source": [
        "9. Dir si un número és primer o no"
      ],
      "metadata": {
        "id": "M4NrPt7VmZbx"
      }
    },
    {
      "cell_type": "code",
      "source": [
        "a = int(input(\"Número (>1): \"))\n",
        "\n",
        "if a <= 1:\n",
        "    print(\"No es prim\")\n",
        "\n",
        "else:\n",
        "    b = 2\n",
        "    prim = True\n",
        "    while b * b <= a and prim:\n",
        "        if a % b == 0:\n",
        "            prim = False\n",
        "        b += b\n",
        "\n",
        "    print(\"Es prim\" if prim else \"No es prim\")\n",
        "\n"
      ],
      "metadata": {
        "colab": {
          "base_uri": "https://localhost:8080/"
        },
        "id": "IJzMjAlGmbJd",
        "outputId": "f7169fb7-6a59-4ffa-db51-4ec7be669be4"
      },
      "execution_count": null,
      "outputs": [
        {
          "output_type": "stream",
          "name": "stdout",
          "text": [
            "Número (>1): 7\n",
            "Es prim\n"
          ]
        }
      ]
    },
    {
      "cell_type": "markdown",
      "source": [
        "10.Multiplicar dos sencers positius en base a sumes successives"
      ],
      "metadata": {
        "id": "LXe6iF7-mbTW"
      }
    },
    {
      "cell_type": "code",
      "source": [
        "a = int(input(\"Sencer 1 : \"))\n",
        "b = int(input(\"Sencer 2: \"))\n",
        "res = 0\n",
        "\n",
        "while b > 0:\n",
        "    res += a\n",
        "    b -= 1\n",
        "\n",
        "print(\"Resultat:\", res)\n",
        "\n"
      ],
      "metadata": {
        "colab": {
          "base_uri": "https://localhost:8080/"
        },
        "id": "pM005SfgmdMf",
        "outputId": "3cb3a7bb-38dd-489b-aecf-424cf985a1fb"
      },
      "execution_count": null,
      "outputs": [
        {
          "output_type": "stream",
          "name": "stdout",
          "text": [
            "Sencer 1 : 5\n",
            "Sencer 2: 5\n",
            "Resultado: 25\n"
          ]
        }
      ]
    },
    {
      "cell_type": "markdown",
      "source": [
        "11.Escriure tots els divisors d'un número en ordre ascendent"
      ],
      "metadata": {
        "id": "32DpKJEcgAJ3"
      }
    },
    {
      "cell_type": "code",
      "source": [
        "a = int(input(\"Número: \"))\n",
        "b = 1\n",
        "\n",
        "while b <= a:\n",
        "    if a % b == 0:\n",
        "\n",
        "        print(b)\n",
        "    b += 1\n"
      ],
      "metadata": {
        "colab": {
          "base_uri": "https://localhost:8080/"
        },
        "id": "aD9k-aS-gAW3",
        "outputId": "125a36e4-00f7-4f5f-f16f-9219e7e03ea8"
      },
      "execution_count": null,
      "outputs": [
        {
          "output_type": "stream",
          "name": "stdout",
          "text": [
            "Número: 4\n",
            "1\n",
            "2\n",
            "4\n"
          ]
        }
      ]
    },
    {
      "cell_type": "markdown",
      "source": [
        "11.Escriure tots els divisors d'un número en ordre ascendent"
      ],
      "metadata": {
        "id": "J2GVgeuqgAhV"
      }
    },
    {
      "cell_type": "code",
      "source": [
        "a = int(input(\"Número: \"))\n",
        "b = 2\n",
        "\n",
        "while a > 1:\n",
        "    while a % b == 0:\n",
        "        print(b)\n",
        "        a //= b\n",
        "    b += 1\n"
      ],
      "metadata": {
        "colab": {
          "base_uri": "https://localhost:8080/"
        },
        "id": "yXRhq5g9gAvT",
        "outputId": "b6455b29-5923-4489-fdc7-3578474ebad8"
      },
      "execution_count": null,
      "outputs": [
        {
          "output_type": "stream",
          "name": "stdout",
          "text": [
            "Número: 6\n",
            "2\n",
            "3\n"
          ]
        }
      ]
    },
    {
      "cell_type": "markdown",
      "source": [
        "12.Calcular els factors primers d'un número"
      ],
      "metadata": {
        "id": "C30XbbdKghGT"
      }
    },
    {
      "cell_type": "code",
      "source": [
        "a = int(input(\"Número: \"))\n",
        "b = 2\n",
        "\n",
        "while a > 1:\n",
        "    while a % b == 0:\n",
        "        print(b)\n",
        "        a //= b\n",
        "    b += 1\n"
      ],
      "metadata": {
        "colab": {
          "base_uri": "https://localhost:8080/"
        },
        "id": "Tvhg1zImghgM",
        "outputId": "50ad42ac-08a2-48bc-b004-19708fa19364"
      },
      "execution_count": null,
      "outputs": [
        {
          "output_type": "stream",
          "name": "stdout",
          "text": [
            "Número: 45\n",
            "3\n",
            "3\n",
            "5\n"
          ]
        }
      ]
    },
    {
      "cell_type": "markdown",
      "source": [
        "13.Multiplicar dos sencers en base a sumes successives"
      ],
      "metadata": {
        "id": "tFHA717CgBDb"
      }
    },
    {
      "cell_type": "code",
      "source": [
        "a = int(input(\"A: \"))\n",
        "b = int(input(\"B: \"))\n",
        "res = 0\n",
        "\n",
        "while b > 0:\n",
        "    res += a\n",
        "    b -= 1\n",
        "\n",
        "print(res)\n"
      ],
      "metadata": {
        "colab": {
          "base_uri": "https://localhost:8080/"
        },
        "id": "bqENO343gBQp",
        "outputId": "2ac0f085-f19b-47d9-eb04-765afc9f4205"
      },
      "execution_count": null,
      "outputs": [
        {
          "output_type": "stream",
          "name": "stdout",
          "text": [
            "A: 4\n",
            "B: 5\n",
            "20\n"
          ]
        }
      ]
    },
    {
      "cell_type": "markdown",
      "source": [
        "14.Calcular la taula de multiplicar d'un número entre 1 i 9"
      ],
      "metadata": {
        "id": "9XpWFF3IgBdD"
      }
    },
    {
      "cell_type": "code",
      "source": [
        "a = int(input(\"Número (1-9): \"))\n",
        "b = 1\n",
        "\n",
        "while b <= 10:\n",
        "    print(f\"{a} x {b} = {a*b}\")\n",
        "    b += 1\n"
      ],
      "metadata": {
        "colab": {
          "base_uri": "https://localhost:8080/"
        },
        "id": "YQOP5beygBpC",
        "outputId": "e9786b38-35d3-41c3-b887-e7b97e5d7062"
      },
      "execution_count": null,
      "outputs": [
        {
          "output_type": "stream",
          "name": "stdout",
          "text": [
            "Número (1-9): 4\n",
            "4 x 1 = 4\n",
            "4 x 2 = 8\n",
            "4 x 3 = 12\n",
            "4 x 4 = 16\n",
            "4 x 5 = 20\n",
            "4 x 6 = 24\n",
            "4 x 7 = 28\n",
            "4 x 8 = 32\n",
            "4 x 9 = 36\n",
            "4 x 10 = 40\n"
          ]
        }
      ]
    },
    {
      "cell_type": "markdown",
      "source": [
        "15.Jugar a endevinar un número"
      ],
      "metadata": {
        "id": "rjMoCOyzgK5r"
      }
    },
    {
      "cell_type": "code",
      "source": [
        "??"
      ],
      "metadata": {
        "id": "UAPg8GRlgLRq"
      },
      "execution_count": null,
      "outputs": []
    },
    {
      "cell_type": "markdown",
      "source": [],
      "metadata": {
        "id": "3sTo2Ptlx2Dg"
      }
    },
    {
      "cell_type": "code",
      "source": [
        "verb =input(\"Entra un verb: \")\n",
        "\n",
        "if verb.endswith(\"ar\"):\n",
        "  print(f\"{verb} -> 1 '{verb}'\")\n",
        "\n",
        "if verb.endswith(\"re\") or verb.endswith(\"er\"):\n",
        "      print(f\"{verb} -> 2 '{verb}'\")\n",
        "\n",
        "if verb.endswith(\"ir\"):\n",
        "            print(f\"{verb} -> 3 '{verb}'\")\n",
        "else:\n",
        "            print(f\"{verb} -> '{verb}'no te conjugacio\")"
      ],
      "metadata": {
        "colab": {
          "base_uri": "https://localhost:8080/"
        },
        "id": "aS6yPqxyx2SA",
        "outputId": "d40fb676-cb58-4348-f61a-45360f7aee99"
      },
      "execution_count": null,
      "outputs": [
        {
          "output_type": "stream",
          "name": "stdout",
          "text": [
            "Entra un verb: bailar\n",
            "bailar -> 1 'bailar'\n",
            "bailar -> 'bailar'no te conjugacio\n"
          ]
        }
      ]
    },
    {
      "cell_type": "code",
      "source": [
        "verb =input(\"Entra un verb: \")\n",
        "\n",
        "if verb.endswith(\"ar\"):\n",
        "  print(f\"{verb} -> 1 '{verb}'\")\n",
        "\n",
        "elif verb.endswith(\"re\") or verb.endswith(\"er\"):\n",
        "      print(f\"{verb} -> 2 '{verb}'\")\n",
        "\n",
        "elif verb.endswith(\"ir\"):\n",
        "            print(f\"{verb} -> 3 '{verb}'\")\n",
        "else:\n",
        "            print(f\"{verb} -> '{verb}'no te conjugacio\")"
      ],
      "metadata": {
        "colab": {
          "base_uri": "https://localhost:8080/"
        },
        "id": "mQGBlqMmzZdv",
        "outputId": "f5db5744-503d-4ef6-e624-f201d58fd7fd"
      },
      "execution_count": null,
      "outputs": [
        {
          "output_type": "stream",
          "name": "stdout",
          "text": [
            "Entra un verb: comer\n",
            "comer -> 2 'comer'\n"
          ]
        }
      ]
    },
    {
      "cell_type": "markdown",
      "source": [],
      "metadata": {
        "id": "Ykohf4Ea22s_"
      }
    },
    {
      "cell_type": "code",
      "source": [
        "cadena = \"\"\n",
        "\n",
        "while (not(cadena.endswith('ar')) and not(cadena.endswith('re')) and not(cadena.endswith('ir'))) or ' ' in cadena:\n",
        "      cadena = input('Vols fer el favor d entrar un verb ')\n",
        "\n",
        "print(f'Eureka!! has entrat el verb {cadena}')"
      ],
      "metadata": {
        "colab": {
          "base_uri": "https://localhost:8080/"
        },
        "id": "-SBnMVYE228B",
        "outputId": "ecd0e799-47dc-4c89-8432-435069ca9572"
      },
      "execution_count": null,
      "outputs": [
        {
          "output_type": "stream",
          "name": "stdout",
          "text": [
            "Vols fer el favor d entrar un verb hola caracola\n",
            "Vols fer el favor d entrar un verb jugar\n",
            "Eureka!! has entrat el verb jugar\n"
          ]
        }
      ]
    },
    {
      "cell_type": "markdown",
      "source": [
        "20. Fes un programa que mostri la taula de multiplicar d'un nú́mero introduït per\n",
        "teclat per l'usuari. Aquí tens un exemple de com s'ha de comportar el\n",
        "programa:"
      ],
      "metadata": {
        "id": "oV0-w-wPS5dm"
      }
    },
    {
      "cell_type": "code",
      "source": [
        "numero = int(input(\"Introdueix un numero: \"))\n",
        "\n",
        "for m in range(0,11):\n",
        "  resultado= m*numero\n",
        "\n",
        "  print(f\"{numero} x {m} = {resultado}\")"
      ],
      "metadata": {
        "colab": {
          "base_uri": "https://localhost:8080/"
        },
        "id": "SpxKFURLZT7s",
        "outputId": "d09f72c4-b141-43d5-f17a-ba9ab3455128"
      },
      "execution_count": null,
      "outputs": [
        {
          "output_type": "stream",
          "name": "stdout",
          "text": [
            "Introdueix un numero: 5\n",
            "5 x 0 = 0\n",
            "5 x 1 = 5\n",
            "5 x 2 = 10\n",
            "5 x 3 = 15\n",
            "5 x 4 = 20\n",
            "5 x 5 = 25\n",
            "5 x 6 = 30\n",
            "5 x 7 = 35\n",
            "5 x 8 = 40\n",
            "5 x 9 = 45\n",
            "5 x 10 = 50\n"
          ]
        }
      ]
    },
    {
      "cell_type": "markdown",
      "source": [
        " Realitza un programa que proporcioni el desglossament en bitllets i monedes d'una\n",
        "quantitat sencera d'euros. Recorda que hi ha bitllets de 500, 200, 100, 50, 20, 10 i 5\n",
        "e y monedas de 2 y 1 e. Has de “recórrer” els valors de bitllet i moneda disponibles\n",
        "amb un o més bucles for-in"
      ],
      "metadata": {
        "id": "d6tutQeMah5U"
      }
    },
    {
      "cell_type": "code",
      "source": [],
      "metadata": {
        "id": "b4m9ch28aki6",
        "colab": {
          "base_uri": "https://localhost:8080/",
          "height": 347
        },
        "outputId": "bef98ff7-2b19-4062-bec6-c3f46349f107"
      },
      "execution_count": 12,
      "outputs": [
        {
          "output_type": "error",
          "ename": "KeyboardInterrupt",
          "evalue": "Interrupted by user",
          "traceback": [
            "\u001b[0;31m---------------------------------------------------------------------------\u001b[0m",
            "\u001b[0;31mKeyboardInterrupt\u001b[0m                         Traceback (most recent call last)",
            "\u001b[0;32m/tmp/ipython-input-12-1456667836.py\u001b[0m in \u001b[0;36m<cell line: 0>\u001b[0;34m()\u001b[0m\n\u001b[0;32m----> 1\u001b[0;31m \u001b[0mdiners\u001b[0m \u001b[0;34m=\u001b[0m \u001b[0minput\u001b[0m\u001b[0;34m(\u001b[0m\u001b[0;34mf\"Quants diners tens? \"\u001b[0m\u001b[0;34m)\u001b[0m\u001b[0;34m\u001b[0m\u001b[0;34m\u001b[0m\u001b[0m\n\u001b[0m\u001b[1;32m      2\u001b[0m \u001b[0;32mfor\u001b[0m \u001b[0mposicio\u001b[0m \u001b[0;32min\u001b[0m \u001b[0mrange\u001b[0m\u001b[0;34m(\u001b[0m\u001b[0mlen\u001b[0m\u001b[0;34m(\u001b[0m\u001b[0mdiners\u001b[0m\u001b[0;34m)\u001b[0m\u001b[0;34m)\u001b[0m\u001b[0;34m:\u001b[0m\u001b[0;34m\u001b[0m\u001b[0;34m\u001b[0m\u001b[0m\n\u001b[1;32m      3\u001b[0m \u001b[0;34m\u001b[0m\u001b[0m\n\u001b[1;32m      4\u001b[0m     \u001b[0mprint\u001b[0m\u001b[0;34m(\u001b[0m\u001b[0mdiners\u001b[0m\u001b[0;34m)\u001b[0m\u001b[0;34m\u001b[0m\u001b[0;34m\u001b[0m\u001b[0m\n",
            "\u001b[0;32m/usr/local/lib/python3.11/dist-packages/ipykernel/kernelbase.py\u001b[0m in \u001b[0;36mraw_input\u001b[0;34m(self, prompt)\u001b[0m\n\u001b[1;32m   1175\u001b[0m                 \u001b[0;34m\"raw_input was called, but this frontend does not support input requests.\"\u001b[0m\u001b[0;34m\u001b[0m\u001b[0;34m\u001b[0m\u001b[0m\n\u001b[1;32m   1176\u001b[0m             )\n\u001b[0;32m-> 1177\u001b[0;31m         return self._input_request(\n\u001b[0m\u001b[1;32m   1178\u001b[0m             \u001b[0mstr\u001b[0m\u001b[0;34m(\u001b[0m\u001b[0mprompt\u001b[0m\u001b[0;34m)\u001b[0m\u001b[0;34m,\u001b[0m\u001b[0;34m\u001b[0m\u001b[0;34m\u001b[0m\u001b[0m\n\u001b[1;32m   1179\u001b[0m             \u001b[0mself\u001b[0m\u001b[0;34m.\u001b[0m\u001b[0m_parent_ident\u001b[0m\u001b[0;34m[\u001b[0m\u001b[0;34m\"shell\"\u001b[0m\u001b[0;34m]\u001b[0m\u001b[0;34m,\u001b[0m\u001b[0;34m\u001b[0m\u001b[0;34m\u001b[0m\u001b[0m\n",
            "\u001b[0;32m/usr/local/lib/python3.11/dist-packages/ipykernel/kernelbase.py\u001b[0m in \u001b[0;36m_input_request\u001b[0;34m(self, prompt, ident, parent, password)\u001b[0m\n\u001b[1;32m   1217\u001b[0m             \u001b[0;32mexcept\u001b[0m \u001b[0mKeyboardInterrupt\u001b[0m\u001b[0;34m:\u001b[0m\u001b[0;34m\u001b[0m\u001b[0;34m\u001b[0m\u001b[0m\n\u001b[1;32m   1218\u001b[0m                 \u001b[0;31m# re-raise KeyboardInterrupt, to truncate traceback\u001b[0m\u001b[0;34m\u001b[0m\u001b[0;34m\u001b[0m\u001b[0m\n\u001b[0;32m-> 1219\u001b[0;31m                 \u001b[0;32mraise\u001b[0m \u001b[0mKeyboardInterrupt\u001b[0m\u001b[0;34m(\u001b[0m\u001b[0;34m\"Interrupted by user\"\u001b[0m\u001b[0;34m)\u001b[0m \u001b[0;32mfrom\u001b[0m \u001b[0;32mNone\u001b[0m\u001b[0;34m\u001b[0m\u001b[0;34m\u001b[0m\u001b[0m\n\u001b[0m\u001b[1;32m   1220\u001b[0m             \u001b[0;32mexcept\u001b[0m \u001b[0mException\u001b[0m\u001b[0;34m:\u001b[0m\u001b[0;34m\u001b[0m\u001b[0;34m\u001b[0m\u001b[0m\n\u001b[1;32m   1221\u001b[0m                 \u001b[0mself\u001b[0m\u001b[0;34m.\u001b[0m\u001b[0mlog\u001b[0m\u001b[0;34m.\u001b[0m\u001b[0mwarning\u001b[0m\u001b[0;34m(\u001b[0m\u001b[0;34m\"Invalid Message:\"\u001b[0m\u001b[0;34m,\u001b[0m \u001b[0mexc_info\u001b[0m\u001b[0;34m=\u001b[0m\u001b[0;32mTrue\u001b[0m\u001b[0;34m)\u001b[0m\u001b[0;34m\u001b[0m\u001b[0;34m\u001b[0m\u001b[0m\n",
            "\u001b[0;31mKeyboardInterrupt\u001b[0m: Interrupted by user"
          ]
        }
      ]
    },
    {
      "cell_type": "markdown",
      "source": [
        "Fes un programa que mostri, en línees independients, tots els números parells\n",
        "compresos entre 0 i 200 (ambdós inclosos)"
      ],
      "metadata": {
        "id": "JoJpMpT5x8rX"
      }
    },
    {
      "cell_type": "code",
      "source": [],
      "metadata": {
        "id": "WIZ7Wggux9Yv"
      },
      "execution_count": 16,
      "outputs": []
    }
  ]
}