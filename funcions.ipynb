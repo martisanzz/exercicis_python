{
  "nbformat": 4,
  "nbformat_minor": 0,
  "metadata": {
    "colab": {
      "provenance": []
    },
    "kernelspec": {
      "name": "python3",
      "display_name": "Python 3"
    },
    "language_info": {
      "name": "python"
    }
  },
  "cells": [
    {
      "cell_type": "markdown",
      "source": [
        "Funció que pren com a paràmetre una llista de números i retorna una altra llista\n",
        "ordenada."
      ],
      "metadata": {
        "id": "Lg2GL1UMhaPn"
      }
    },
    {
      "cell_type": "code",
      "execution_count": null,
      "metadata": {
        "colab": {
          "base_uri": "https://localhost:8080/",
          "height": 53
        },
        "id": "zYUufiyHhYPD",
        "outputId": "2a6d659c-0730-4883-9450-371dab530de5"
      },
      "outputs": [
        {
          "output_type": "stream",
          "name": "stdout",
          "text": [
            "[1, 2, 3, 4, 8]\n"
          ]
        },
        {
          "output_type": "execute_result",
          "data": {
            "text/plain": [
              "'\\ndef ordena(llista):\\n   llista.sort()\\n\\nprint(ordena([4, 3, 2, 1, 8]))\\n'"
            ],
            "application/vnd.google.colaboratory.intrinsic+json": {
              "type": "string"
            }
          },
          "metadata": {},
          "execution_count": 23
        }
      ],
      "source": [
        "llista = [4, 3, 2, 1, 8]\n",
        "\n",
        "llista.sort()\n",
        "print(llista)\n",
        "'''\n",
        "def ordena(llista):\n",
        "   llista.sort()\n",
        "\n",
        "print(ordena([4, 3, 2, 1, 8]))\n",
        "'''"
      ]
    },
    {
      "cell_type": "code",
      "source": [
        "def ordena(lista):\n",
        "\n",
        "  lista.sort()\n",
        "  return lista\n",
        "llista = [4, 3, 2, 1, 8]\n",
        "\n",
        "print(ordena(llista))"
      ],
      "metadata": {
        "colab": {
          "base_uri": "https://localhost:8080/"
        },
        "id": "AUmAzt3CkNRH",
        "outputId": "24f62156-295f-45d6-8b9a-cccc53c6a4f4"
      },
      "execution_count": null,
      "outputs": [
        {
          "output_type": "stream",
          "name": "stdout",
          "text": [
            "[1, 2, 3, 4, 8]\n"
          ]
        }
      ]
    },
    {
      "cell_type": "markdown",
      "source": [
        "2. Funció que pren com a paràmetre una llista de números i retorna la suma dels seus\n",
        "elements."
      ],
      "metadata": {
        "id": "M1Nq2Zy5nTko"
      }
    },
    {
      "cell_type": "code",
      "source": [
        "def suma(lista):\n",
        "\n",
        "  return sum(lista)\n",
        "llista = [4,3,2,1,8]\n",
        "print(suma(llista))"
      ],
      "metadata": {
        "colab": {
          "base_uri": "https://localhost:8080/"
        },
        "id": "UiGjDE4mklJv",
        "outputId": "977a82c1-21e7-4408-c93a-96824d2d93f3"
      },
      "execution_count": null,
      "outputs": [
        {
          "output_type": "stream",
          "name": "stdout",
          "text": [
            "18\n"
          ]
        }
      ]
    },
    {
      "cell_type": "markdown",
      "source": [
        "3. Funció que pren com a paràmetre una llista de números i retorna la suma dels quadrats\n",
        "dels seus elements.def suma_quadrats(llista):\n",
        "    return sum(x ** 2 for x in llista)"
      ],
      "metadata": {
        "id": "2tfsUNQjnWT_"
      }
    },
    {
      "cell_type": "code",
      "source": [
        "def sumaquad(llista):\n",
        "\n",
        "    return sum(x ** 2 for x in llista)\n",
        "\n",
        "llista = [4,3,2,1,8]\n",
        "print(sumaquad(llista))"
      ],
      "metadata": {
        "colab": {
          "base_uri": "https://localhost:8080/"
        },
        "id": "o6ZrdQxQlUr_",
        "outputId": "6bcef4aa-1eef-422c-acbe-dcec4aed05d7"
      },
      "execution_count": null,
      "outputs": [
        {
          "output_type": "stream",
          "name": "stdout",
          "text": [
            "94\n"
          ]
        }
      ]
    },
    {
      "cell_type": "markdown",
      "source": [
        "Funció que pren com a paràmetre una llista de números i retorna la suma dels cubs\n",
        "dels seus elements"
      ],
      "metadata": {
        "id": "4snHiwhBnfwu"
      }
    },
    {
      "cell_type": "code",
      "source": [
        "def sumacub(llista):\n",
        "\n",
        "    return sum(x ** 3 for x in llista)\n",
        "\n",
        "llista = [4,3,2,1,8]\n",
        "print(sumacub(llista))"
      ],
      "metadata": {
        "colab": {
          "base_uri": "https://localhost:8080/"
        },
        "id": "KU92Mhbinh9N",
        "outputId": "8a7f3fcd-94ad-4435-af67-b410db1db1a0"
      },
      "execution_count": 227,
      "outputs": [
        {
          "output_type": "stream",
          "name": "stdout",
          "text": [
            "612\n"
          ]
        }
      ]
    },
    {
      "cell_type": "markdown",
      "source": [
        "5. Funció que pren com a paràmetre una llista de números i retorna el seu valor mínim."
      ],
      "metadata": {
        "id": "7Q3kyTrAnbTf"
      }
    },
    {
      "cell_type": "code",
      "source": [
        "def minim(lista):\n",
        "\n",
        "  return min(lista)\n",
        "llista = [4,3,2,1,8]\n",
        "print(minim(llista))"
      ],
      "metadata": {
        "colab": {
          "base_uri": "https://localhost:8080/"
        },
        "id": "SoRba6fwmqTf",
        "outputId": "64475cc0-ef5d-4de0-dfaf-54b75ee08a53"
      },
      "execution_count": null,
      "outputs": [
        {
          "output_type": "stream",
          "name": "stdout",
          "text": [
            "1\n"
          ]
        }
      ]
    },
    {
      "cell_type": "markdown",
      "source": [
        "6. Funció que pren com a paràmetre una llista de números i retorna el seu valor màxim."
      ],
      "metadata": {
        "id": "zy8Qx2LrneJW"
      }
    },
    {
      "cell_type": "code",
      "source": [
        "def maxim(lista):\n",
        "\n",
        "  return max(lista)\n",
        "llista = [4,3,2,1,8]\n",
        "print(maxim(llista))"
      ],
      "metadata": {
        "colab": {
          "base_uri": "https://localhost:8080/"
        },
        "id": "aR-lDb6znAf2",
        "outputId": "b86e367d-cec4-4e6f-dd1f-6ba573d0c657"
      },
      "execution_count": null,
      "outputs": [
        {
          "output_type": "stream",
          "name": "stdout",
          "text": [
            "8\n"
          ]
        }
      ]
    },
    {
      "cell_type": "markdown",
      "source": [
        "Funció que pren com a paràmetre una llista de números i retorna la llista en ordre\n",
        "invertit"
      ],
      "metadata": {
        "id": "3HJk_WPUnqgu"
      }
    },
    {
      "cell_type": "code",
      "source": [
        "def invertit(lista):\n",
        "\n",
        "  lista.reverse()\n",
        "  return lista\n",
        "llista = [4, 3, 2, 1, 8]\n",
        "\n",
        "print(invertit(llista))"
      ],
      "metadata": {
        "colab": {
          "base_uri": "https://localhost:8080/"
        },
        "id": "4LJ7mkbQoOYX",
        "outputId": "60673e90-6694-4dd7-e70f-288e290edb24"
      },
      "execution_count": null,
      "outputs": [
        {
          "output_type": "stream",
          "name": "stdout",
          "text": [
            "[8, 1, 2, 3, 4]\n"
          ]
        }
      ]
    },
    {
      "cell_type": "markdown",
      "source": [
        "Funció que pren com a paràmetre una llista de números i retorna una altra llista\n",
        "amb els elements en posició parell."
      ],
      "metadata": {
        "id": "Q7ewI7UdoSTG"
      }
    },
    {
      "cell_type": "code",
      "source": [
        "def parell(llista):\n",
        "\n",
        "    parell = []\n",
        "    for posicio in range(len(llista)):\n",
        "        if posicio % 2 == 0:\n",
        "            parell.append(llista[posicio])\n",
        "    return parell\n",
        "\n",
        "llista = [4,3,2,1,8]\n",
        "print(parell(llista))"
      ],
      "metadata": {
        "id": "Sjr8d7T3xADH"
      },
      "execution_count": null,
      "outputs": []
    },
    {
      "cell_type": "markdown",
      "source": [
        "9. Funció que pren com a paràmetre una llista de números i retorna una altra llista amb\n",
        "els elements en posició senar."
      ],
      "metadata": {
        "id": "0LNsNNyFpb1P"
      }
    },
    {
      "cell_type": "code",
      "source": [
        "def senar(llista):\n",
        "\n",
        "    senars = []\n",
        "    for posicio in range(len(llista)):\n",
        "        if posicio % 2 != 0:\n",
        "            senars.append(llista[posicio])\n",
        "    return senars\n",
        "\n",
        "llista = [4,3,2,1,8]\n",
        "print(senar(llista))"
      ],
      "metadata": {
        "colab": {
          "base_uri": "https://localhost:8080/"
        },
        "id": "Tn780Kp1peHu",
        "outputId": "9f0c225d-4e2d-42db-85c5-c848a6ada9ad"
      },
      "execution_count": null,
      "outputs": [
        {
          "output_type": "stream",
          "name": "stdout",
          "text": [
            "[3, 1]\n"
          ]
        }
      ]
    },
    {
      "cell_type": "markdown",
      "source": [
        "\n",
        "10. Funció que pren com a paràmetre una llista de números i retorna una altra llista amb\n",
        "el número de dígits de cada element"
      ],
      "metadata": {
        "id": "KClUuDYGwW6J"
      }
    },
    {
      "cell_type": "code",
      "source": [
        "llista = [4,3,2,1,8]\n",
        "for posicio in range(len(llista)):\n",
        "  llista = [1,1,1,1,1]\n",
        "print(llista)"
      ],
      "metadata": {
        "id": "6Cs11raGqPWf",
        "colab": {
          "base_uri": "https://localhost:8080/"
        },
        "outputId": "e921c692-72af-4349-fb59-7e561cbd77a7"
      },
      "execution_count": null,
      "outputs": [
        {
          "output_type": "stream",
          "name": "stdout",
          "text": [
            "[1, 1, 1, 1, 1]\n"
          ]
        }
      ]
    },
    {
      "cell_type": "markdown",
      "source": [
        " Funció que pren com a paràmetre una llista de cadenes i retorna una altra llista amb la\n",
        "longitud de cadascuna de les cadenes que formen la llista."
      ],
      "metadata": {
        "id": "zlRZ6evazi-q"
      }
    },
    {
      "cell_type": "code",
      "source": [
        "def longitud(lista):\n",
        "\n",
        "  longitud = []\n",
        "  for cadena in lista:\n",
        "    longitud.append(len(cadena))\n",
        "  return longitud\n",
        "llista = ['hola', 'com', 'estas']\n",
        "print(longitud(llista))\n"
      ],
      "metadata": {
        "colab": {
          "base_uri": "https://localhost:8080/"
        },
        "id": "8d9e907gyk5K",
        "outputId": "c9b69ce1-a38c-4bc4-f7b3-77581351495f"
      },
      "execution_count": null,
      "outputs": [
        {
          "output_type": "stream",
          "name": "stdout",
          "text": [
            "[4, 3, 5]\n"
          ]
        }
      ]
    },
    {
      "cell_type": "markdown",
      "source": [
        " Funció que pren com a paràmetre una llista de cadenes i retorna una altra llista amb les\n",
        "mateixes cadenes en minúscules."
      ],
      "metadata": {
        "id": "bzSqdEiQziuK"
      }
    },
    {
      "cell_type": "code",
      "source": [
        "def min(lista):\n",
        "\n",
        "  minuscules = []\n",
        "  for cadena in lista:\n",
        "    minuscules.append(cadena.lower())\n",
        "  return minuscules\n",
        "\n",
        "llista = ['HOLA', 'COM', 'ESTAS']\n",
        "print(min(llista))"
      ],
      "metadata": {
        "colab": {
          "base_uri": "https://localhost:8080/"
        },
        "id": "rCqNQlR408-k",
        "outputId": "07d070ce-7d4e-4cf2-b123-d971fec08b0b"
      },
      "execution_count": null,
      "outputs": [
        {
          "output_type": "stream",
          "name": "stdout",
          "text": [
            "['hola', 'com', 'estas']\n"
          ]
        }
      ]
    },
    {
      "cell_type": "markdown",
      "source": [
        "Funció que pren com a paràmetre una llista de cadenes i retorna una altra llista amb\n",
        "les mateixes cadenes en majúscules."
      ],
      "metadata": {
        "id": "Vb0h9HVIx8zN"
      }
    },
    {
      "cell_type": "code",
      "source": [
        "def maj(lista):\n",
        "\n",
        "  majuscules = []\n",
        "  for cadena in lista:\n",
        "    majuscules.append(cadena.upper())\n",
        "  return majuscules\n",
        "\n",
        "llista = ['hola', 'com', 'estas']\n",
        "print(maj(llista))"
      ],
      "metadata": {
        "colab": {
          "base_uri": "https://localhost:8080/"
        },
        "id": "ddkZvhHdx9Nh",
        "outputId": "a45d913a-f1b8-4aeb-c2a7-8bdad67d5b91"
      },
      "execution_count": 3,
      "outputs": [
        {
          "output_type": "stream",
          "name": "stdout",
          "text": [
            "['HOLA', 'COM', 'ESTAS']\n"
          ]
        }
      ]
    },
    {
      "cell_type": "markdown",
      "source": [
        " Funció que pren com a paràmetre una llista de cadenes i retorna una única cadena amb\n",
        "tots els elements concatenats (Suma d'strings o cadenes)."
      ],
      "metadata": {
        "id": "ioLxmrLYyRry"
      }
    },
    {
      "cell_type": "code",
      "source": [
        "def sumastring(lista):\n",
        "\n",
        "    return \"\".join(lista)\n",
        "\n",
        "llista = ['hola','com','estas']\n",
        "print(sumastring(llista))"
      ],
      "metadata": {
        "colab": {
          "base_uri": "https://localhost:8080/"
        },
        "id": "daKeKGymyR4c",
        "outputId": "1e75d9f4-fc0e-493d-cd0b-e32b427c4e0c"
      },
      "execution_count": 16,
      "outputs": [
        {
          "output_type": "stream",
          "name": "stdout",
          "text": [
            "holacomestas\n"
          ]
        }
      ]
    },
    {
      "cell_type": "markdown",
      "source": [
        " Funció que pren com a paràmetre una llista de cadenes i retorna una altra llista amb les\n",
        "mateixes cadenes ordenades en ordre alfabètic."
      ],
      "metadata": {
        "id": "qba5RLpEySEq"
      }
    },
    {
      "cell_type": "code",
      "source": [
        "def ordenastring(llista):\n",
        "\n",
        "  llista.sort()\n",
        "  return llista\n",
        "\n",
        "llista = ['hola', 'com', 'estas']\n",
        "print(ordenastring(llista))"
      ],
      "metadata": {
        "colab": {
          "base_uri": "https://localhost:8080/"
        },
        "id": "XRP2Jj1eySNS",
        "outputId": "23b753cd-e3a2-42f2-83b6-014659d3a837"
      },
      "execution_count": 93,
      "outputs": [
        {
          "output_type": "stream",
          "name": "stdout",
          "text": [
            "['com', 'estas', 'hola']\n"
          ]
        }
      ]
    },
    {
      "cell_type": "code",
      "source": [
        "def ordenastring(llista):\n",
        "\n",
        "  llista.sort()\n",
        "  return llista\n",
        "\n",
        "llista = ['hola', 'com', 'estas']\n",
        "print(ordenastring(llista))"
      ],
      "metadata": {
        "colab": {
          "base_uri": "https://localhost:8080/"
        },
        "id": "ymHzrGl-6Vr6",
        "outputId": "8811f380-d943-4df7-dea6-dcb30e134c69"
      },
      "execution_count": 161,
      "outputs": [
        {
          "output_type": "stream",
          "name": "stdout",
          "text": [
            "['com', 'estas', 'hola']\n"
          ]
        }
      ]
    },
    {
      "cell_type": "markdown",
      "source": [
        "Funció que pren com a paràmetre una llista de cadenes i retorna una altra llista amb\n",
        "les cadenes que es troben en posició parell"
      ],
      "metadata": {
        "id": "cpSvXBpmySXE"
      }
    },
    {
      "cell_type": "code",
      "source": [
        "def parell(llista):\n",
        "\n",
        "    parell = []\n",
        "    for posicio in range(len(llista)):\n",
        "        if posicio % 2 == 0:\n",
        "            parell.append(llista[posicio])\n",
        "    return parell\n",
        "\n",
        "llista = ['hola','com','estas']\n",
        "print(parell(llista))\n"
      ],
      "metadata": {
        "colab": {
          "base_uri": "https://localhost:8080/"
        },
        "id": "VB5spcbEySpK",
        "outputId": "74656060-879c-4354-e14f-83a824d9c872"
      },
      "execution_count": 80,
      "outputs": [
        {
          "output_type": "stream",
          "name": "stdout",
          "text": [
            "['hola', 'estas']\n"
          ]
        }
      ]
    },
    {
      "cell_type": "markdown",
      "source": [
        "Funció que pren com a paràmetre una llista de cadenes i retorna una altra llista amb\n",
        "les cadenes que es troben en posició senar."
      ],
      "metadata": {
        "id": "XA-8GT8kyTDj"
      }
    },
    {
      "cell_type": "code",
      "source": [
        "def senar(lista):\n",
        "\n",
        "    senar = []\n",
        "    for posicio in range(len(llista)):\n",
        "        if posicio % 2 != 0:\n",
        "            senar.append(llista[posicio])\n",
        "    return senar\n",
        "\n",
        "llista = ['hola','com','estas']\n",
        "print(senar(llista))"
      ],
      "metadata": {
        "colab": {
          "base_uri": "https://localhost:8080/"
        },
        "id": "iqjZaNMSyTTz",
        "outputId": "b80bf9c1-db65-4536-9f97-d985cf328f75"
      },
      "execution_count": 101,
      "outputs": [
        {
          "output_type": "stream",
          "name": "stdout",
          "text": [
            "['com']\n"
          ]
        }
      ]
    },
    {
      "cell_type": "markdown",
      "source": [
        "Funció que pren com a paràmetre una llista de cadenes i retorna una altra llista amb\n",
        "les mateixes cadenes sense l'últim caràcter"
      ],
      "metadata": {
        "id": "Mu2pGm9oyTj7"
      }
    },
    {
      "cell_type": "code",
      "source": [
        "def nolast(lista):\n",
        "\n",
        "  modlist = []\n",
        "  for cadena in lista:\n",
        "    modlist.append(cadena[:-1])\n",
        "  return modlist\n",
        "\n",
        "llista = ['hola','com','estas']\n",
        "print(nolast(llista))"
      ],
      "metadata": {
        "colab": {
          "base_uri": "https://localhost:8080/"
        },
        "id": "910qEp6O-CAw",
        "outputId": "ec9d4089-17e9-4729-e764-559a1fcbb6a3"
      },
      "execution_count": 151,
      "outputs": [
        {
          "output_type": "stream",
          "name": "stdout",
          "text": [
            "['hol', 'co', 'esta']\n"
          ]
        }
      ]
    },
    {
      "cell_type": "markdown",
      "source": [
        "Funció que pren com a paràmetre una llista de cadenes i retorna una altra llista amb\n",
        "les mateixes cadenes sense el primer caràcter"
      ],
      "metadata": {
        "id": "XbJe2Gi0ypFk"
      }
    },
    {
      "cell_type": "code",
      "source": [
        "def nofirst(lista):\n",
        "\n",
        "  modlist = []\n",
        "  for cadena in lista:\n",
        "    modlist.append(cadena[1:])\n",
        "  return modlist\n",
        "\n",
        "llista = ['hola','com','estas']\n",
        "print(nofirst(llista))"
      ],
      "metadata": {
        "colab": {
          "base_uri": "https://localhost:8080/"
        },
        "id": "u94M4INcyrUy",
        "outputId": "f582cf05-4d62-4b1e-8e9a-425c3e3326c8"
      },
      "execution_count": 150,
      "outputs": [
        {
          "output_type": "stream",
          "name": "stdout",
          "text": [
            "['ola', 'om', 'stas']\n"
          ]
        }
      ]
    },
    {
      "cell_type": "markdown",
      "source": [
        "Funció que pren com a paràmetre una llista de cadenes i retorna una altra\n",
        "llista amb les mateixes cadenes invertides ***"
      ],
      "metadata": {
        "id": "h4P0hP2nyrjr"
      }
    },
    {
      "cell_type": "code",
      "source": [
        "'''\n",
        "def inversio(lista):\n",
        "  modinv = [llista]\n",
        "  for cadena in lista:\n",
        "      modinv.reverse()\n",
        "  return modinv\n",
        "\n",
        "llista = ['hola', 'com', 'estas']\n",
        "print(llista)\n",
        "\n",
        "'''\n",
        "llista = ['hola','com', 'estas']\n",
        "llista.reverse()\n",
        "print(llista)\n"
      ],
      "metadata": {
        "colab": {
          "base_uri": "https://localhost:8080/"
        },
        "id": "EJGwFgW3_ejV",
        "outputId": "e2a0ce2a-99b7-4c15-840b-28f15be91ca2"
      },
      "execution_count": 196,
      "outputs": [
        {
          "output_type": "stream",
          "name": "stdout",
          "text": [
            "['estas', 'com', 'hola']\n"
          ]
        }
      ]
    },
    {
      "cell_type": "code",
      "source": [
        "def reverse(lista):\n",
        "\n",
        "  return lista[::-1]\n",
        "\n",
        "llista = ['hola', 'com', 'estas']\n",
        "print(reverse(llista))"
      ],
      "metadata": {
        "colab": {
          "base_uri": "https://localhost:8080/"
        },
        "id": "JZM5V9-MV_Rw",
        "outputId": "dffdd6ff-10ed-4600-946b-147955ad510b"
      },
      "execution_count": 226,
      "outputs": [
        {
          "output_type": "stream",
          "name": "stdout",
          "text": [
            "['estas', 'com', 'hola']\n"
          ]
        }
      ]
    }
  ]
}