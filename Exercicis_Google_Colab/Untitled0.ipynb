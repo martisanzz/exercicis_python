{
  "nbformat": 4,
  "nbformat_minor": 0,
  "metadata": {
    "colab": {
      "provenance": []
    },
    "kernelspec": {
      "name": "python3",
      "display_name": "Python 3"
    },
    "language_info": {
      "name": "python"
    }
  },
  "cells": [
    {
      "cell_type": "code",
      "execution_count": null,
      "metadata": {
        "colab": {
          "base_uri": "https://localhost:8080/"
        },
        "id": "N98kN82Nsw74",
        "outputId": "675c81d4-50fa-4e16-8aee-8a47cc61ec88"
      },
      "outputs": [
        {
          "output_type": "stream",
          "name": "stdout",
          "text": [
            "[12, 13, 13, 123, 15, 14, 14, 17] [24, 26, 26, 246, 30, 28, 28, 34]\n"
          ]
        }
      ],
      "source": [
        "llista = [12,13,13,123,15,14,14,17]\n",
        "resultat = []\n",
        "\n",
        "for num in llista:\n",
        "  resultat.append(num * 2)\n",
        "print(llista, resultat)\n",
        "\n",
        "\n",
        "\n",
        "resultat = [numero * 2 for numero in llista]"
      ]
    },
    {
      "cell_type": "code",
      "source": [
        "resultat = [numero * 2 for numero in llista]\n",
        "print(resultat)"
      ],
      "metadata": {
        "id": "hvfhBR_1tutD",
        "outputId": "243dd7b9-7f13-41c0-8d16-127c75a779e5",
        "colab": {
          "base_uri": "https://localhost:8080/"
        }
      },
      "execution_count": null,
      "outputs": [
        {
          "output_type": "stream",
          "name": "stdout",
          "text": [
            "[24, 26, 26, 246, 30, 28, 28, 34]\n"
          ]
        }
      ]
    }
  ]
}