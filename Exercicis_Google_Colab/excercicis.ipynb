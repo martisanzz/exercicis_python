{
  "nbformat": 4,
  "nbformat_minor": 0,
  "metadata": {
    "colab": {
      "provenance": []
    },
    "kernelspec": {
      "name": "python3",
      "display_name": "Python 3"
    },
    "language_info": {
      "name": "python"
    }
  },
  "cells": [
    {
      "cell_type": "markdown",
      "source": [
        "40.\t5. Com accedir al 3r caràcter del segon element d'una llista de cadenes?"
      ],
      "metadata": {
        "id": "464cd2KZ4vBH"
      }
    },
    {
      "cell_type": "code",
      "source": [
        "llista = [1,2,3,4]\n",
        "print(llista[3])\n"
      ],
      "metadata": {
        "colab": {
          "base_uri": "https://localhost:8080/"
        },
        "id": "KWLo_Cyj4s2p",
        "outputId": "56f15b30-01f0-4c88-bebe-ef06e5416f91"
      },
      "execution_count": null,
      "outputs": [
        {
          "output_type": "stream",
          "name": "stdout",
          "text": [
            "4\n"
          ]
        }
      ]
    },
    {
      "cell_type": "markdown",
      "source": [
        "41.\t6. Accedeix a la clau \"c\" de la tercera posició en [{}, {}, {\"c\": 3}]."
      ],
      "metadata": {
        "id": "i5Xf0gEd4yo3"
      }
    },
    {
      "cell_type": "code",
      "source": [
        "llista = [{}, {}, {\"c\": 3}]\n",
        "valor = llista[2][\"c\"]\n",
        "print(valor)\n"
      ],
      "metadata": {
        "colab": {
          "base_uri": "https://localhost:8080/"
        },
        "id": "pXjCNQBj415e",
        "outputId": "c704d78c-d1f6-401d-ff20-869ce830fe0a"
      },
      "execution_count": null,
      "outputs": [
        {
          "output_type": "stream",
          "name": "stdout",
          "text": [
            "3\n"
          ]
        }
      ]
    },
    {
      "cell_type": "markdown",
      "source": [
        "42.\t7. Com accedir a \"abc\" dins [[[\"abc\"]]]?"
      ],
      "metadata": {
        "id": "qWStVEP843lO"
      }
    },
    {
      "cell_type": "code",
      "source": [
        "a = [[[\"abc\"]]]\n",
        "print(a[0][0][0])"
      ],
      "metadata": {
        "colab": {
          "base_uri": "https://localhost:8080/"
        },
        "id": "YWbEafm744wv",
        "outputId": "b1202f96-38b2-4909-eec5-8399e4fcd7b6"
      },
      "execution_count": null,
      "outputs": [
        {
          "output_type": "stream",
          "name": "stdout",
          "text": [
            "abc\n"
          ]
        }
      ]
    },
    {
      "cell_type": "markdown",
      "source": [
        "43.\t8. Accedeix a l’últim element de la darrera llista dins [[1, 2], [3, 4]]."
      ],
      "metadata": {
        "id": "QYuDYlDR460O"
      }
    },
    {
      "cell_type": "code",
      "source": [
        "a = [[1, 2], [3, 4]]\n",
        "print(a[1][1])"
      ],
      "metadata": {
        "colab": {
          "base_uri": "https://localhost:8080/"
        },
        "id": "kAYs216G48W4",
        "outputId": "b73d4a9d-1095-476c-a2c0-79eb9f5d6824"
      },
      "execution_count": null,
      "outputs": [
        {
          "output_type": "stream",
          "name": "stdout",
          "text": [
            "4\n"
          ]
        }
      ]
    },
    {
      "cell_type": "markdown",
      "source": [
        "44.\t9. Com accedir a la llista dins {\"info\": {\"detall\": [1, 2, 3]}}?"
      ],
      "metadata": {
        "id": "jDtGyFq34-T-"
      }
    },
    {
      "cell_type": "code",
      "source": [
        "a =  {\"info\": {\"detall\": [1, 2, 3]}}\n",
        "valores = a[\"info\"][\"detall\"]\n",
        "print(valores)"
      ],
      "metadata": {
        "colab": {
          "base_uri": "https://localhost:8080/"
        },
        "id": "6Tdv27eX4_pX",
        "outputId": "656ce189-ad7b-44bb-fb25-993294cfae0c"
      },
      "execution_count": null,
      "outputs": [
        {
          "output_type": "stream",
          "name": "stdout",
          "text": [
            "[1, 2, 3]\n"
          ]
        }
      ]
    },
    {
      "cell_type": "markdown",
      "source": [
        "45.\t10. Quin valor retorna d[\"items\"][1][\"preu\"] si d = {\"items\": [{\"preu\": 5}, {\"preu\": 10}]}?"
      ],
      "metadata": {
        "id": "SRRuUJge5Buu"
      }
    },
    {
      "cell_type": "code",
      "source": [
        "a = {\"items\": [{\"preu\": 5}, {\"preu\": 10}]}\n",
        "valor = a[\"items\"][1][\"preu\"]\n",
        "print(valor)"
      ],
      "metadata": {
        "colab": {
          "base_uri": "https://localhost:8080/"
        },
        "id": "M0lhShG75Dce",
        "outputId": "6de95bdd-1217-4d2e-d1e8-368adac9838d"
      },
      "execution_count": null,
      "outputs": [
        {
          "output_type": "stream",
          "name": "stdout",
          "text": [
            "10\n"
          ]
        }
      ]
    },
    {
      "cell_type": "markdown",
      "source": [
        "46.\t11. Com afegir un valor nou dins una llista anidada? ***"
      ],
      "metadata": {
        "id": "4yZPjD-V5FmF"
      }
    },
    {
      "cell_type": "code",
      "source": [],
      "metadata": {
        "id": "TLWicdUp5Id1"
      },
      "execution_count": null,
      "outputs": []
    },
    {
      "cell_type": "markdown",
      "source": [
        "47.\t12. Com accedir a una clau anidada que pot no existir? ***"
      ],
      "metadata": {
        "id": "84IoIWKx5hwD"
      }
    },
    {
      "cell_type": "code",
      "source": [],
      "metadata": {
        "id": "U7_E7D1B5rGb"
      },
      "execution_count": null,
      "outputs": []
    },
    {
      "cell_type": "markdown",
      "source": [
        "48.\t13. Com accedir a la segona lletra del primer nom dins [\"Joan\", \"Anna\"]?"
      ],
      "metadata": {
        "id": "ORlJoqyF5wHj"
      }
    },
    {
      "cell_type": "code",
      "source": [
        "a = [\"Joan\",\"Anna\"]\n",
        "print(a[0][1])"
      ],
      "metadata": {
        "colab": {
          "base_uri": "https://localhost:8080/"
        },
        "id": "Ih9ihxB75zSJ",
        "outputId": "55c23a80-cdaa-4f89-aaae-88ee56a4f04c"
      },
      "execution_count": null,
      "outputs": [
        {
          "output_type": "stream",
          "name": "stdout",
          "text": [
            "o\n"
          ]
        }
      ]
    },
    {
      "cell_type": "markdown",
      "source": [
        "49.\t14. Com accedir a un valor dins un set convertint-lo prèviament? ***"
      ],
      "metadata": {
        "id": "K86LeMwk6BGa"
      }
    },
    {
      "cell_type": "code",
      "source": [
        "listaset = {1,2,3,3,4,5,6,7}\n",
        "print(listaset)\n",
        "type(listaset)"
      ],
      "metadata": {
        "colab": {
          "base_uri": "https://localhost:8080/"
        },
        "id": "N06WU0JF6--W",
        "outputId": "fb6bde6d-84ad-4acb-8439-86898515cd42"
      },
      "execution_count": null,
      "outputs": [
        {
          "output_type": "stream",
          "name": "stdout",
          "text": [
            "{1, 2, 3, 4, 5, 6, 7}\n"
          ]
        },
        {
          "output_type": "execute_result",
          "data": {
            "text/plain": [
              "set"
            ]
          },
          "metadata": {},
          "execution_count": 27
        }
      ]
    },
    {
      "cell_type": "markdown",
      "source": [
        "50.\t15. Accedeix al valor True dins {\"opcions\": {\"actiu\": True}}."
      ],
      "metadata": {
        "id": "Vj3SdGIY7xLi"
      }
    },
    {
      "cell_type": "code",
      "source": [
        "a = {\"opcions\": {\"actiu\": True}}\n",
        "valor = a[\"opcions\"][\"actiu\"]\n",
        "print(valor)"
      ],
      "metadata": {
        "colab": {
          "base_uri": "https://localhost:8080/"
        },
        "id": "Cn4-h2pX7yoL",
        "outputId": "c8ad4ebc-c88e-4593-c564-6adee0bb7158"
      },
      "execution_count": null,
      "outputs": [
        {
          "output_type": "stream",
          "name": "stdout",
          "text": [
            "True\n"
          ]
        }
      ]
    },
    {
      "cell_type": "markdown",
      "source": [
        "51.\t1. Com pots veure totes les funcions disponibles per a una cadena?"
      ],
      "metadata": {
        "id": "ySsgxz4W8KLC"
      }
    },
    {
      "cell_type": "code",
      "source": [
        "dir(str)\n"
      ],
      "metadata": {
        "colab": {
          "base_uri": "https://localhost:8080/"
        },
        "id": "u-eMVUxH8MwB",
        "outputId": "ee07b4c7-cfb8-4773-f5b5-ff8e31409289"
      },
      "execution_count": null,
      "outputs": [
        {
          "output_type": "execute_result",
          "data": {
            "text/plain": [
              "['__add__',\n",
              " '__class__',\n",
              " '__contains__',\n",
              " '__delattr__',\n",
              " '__dir__',\n",
              " '__doc__',\n",
              " '__eq__',\n",
              " '__format__',\n",
              " '__ge__',\n",
              " '__getattribute__',\n",
              " '__getitem__',\n",
              " '__getnewargs__',\n",
              " '__getstate__',\n",
              " '__gt__',\n",
              " '__hash__',\n",
              " '__init__',\n",
              " '__init_subclass__',\n",
              " '__iter__',\n",
              " '__le__',\n",
              " '__len__',\n",
              " '__lt__',\n",
              " '__mod__',\n",
              " '__mul__',\n",
              " '__ne__',\n",
              " '__new__',\n",
              " '__reduce__',\n",
              " '__reduce_ex__',\n",
              " '__repr__',\n",
              " '__rmod__',\n",
              " '__rmul__',\n",
              " '__setattr__',\n",
              " '__sizeof__',\n",
              " '__str__',\n",
              " '__subclasshook__',\n",
              " 'capitalize',\n",
              " 'casefold',\n",
              " 'center',\n",
              " 'count',\n",
              " 'encode',\n",
              " 'endswith',\n",
              " 'expandtabs',\n",
              " 'find',\n",
              " 'format',\n",
              " 'format_map',\n",
              " 'index',\n",
              " 'isalnum',\n",
              " 'isalpha',\n",
              " 'isascii',\n",
              " 'isdecimal',\n",
              " 'isdigit',\n",
              " 'isidentifier',\n",
              " 'islower',\n",
              " 'isnumeric',\n",
              " 'isprintable',\n",
              " 'isspace',\n",
              " 'istitle',\n",
              " 'isupper',\n",
              " 'join',\n",
              " 'ljust',\n",
              " 'lower',\n",
              " 'lstrip',\n",
              " 'maketrans',\n",
              " 'partition',\n",
              " 'removeprefix',\n",
              " 'removesuffix',\n",
              " 'replace',\n",
              " 'rfind',\n",
              " 'rindex',\n",
              " 'rjust',\n",
              " 'rpartition',\n",
              " 'rsplit',\n",
              " 'rstrip',\n",
              " 'split',\n",
              " 'splitlines',\n",
              " 'startswith',\n",
              " 'strip',\n",
              " 'swapcase',\n",
              " 'title',\n",
              " 'translate',\n",
              " 'upper',\n",
              " 'zfill']"
            ]
          },
          "metadata": {},
          "execution_count": 41
        }
      ]
    },
    {
      "cell_type": "markdown",
      "source": [
        "52.\t2. Com pots consultar la documentació de max()?"
      ],
      "metadata": {
        "id": "7USym0C38b6S"
      }
    },
    {
      "cell_type": "code",
      "source": [
        "dir(max)\n"
      ],
      "metadata": {
        "colab": {
          "base_uri": "https://localhost:8080/"
        },
        "id": "nR_a7Cu_8dRA",
        "outputId": "89d3d15a-18d3-47ee-919f-39abdaaa94d3"
      },
      "execution_count": null,
      "outputs": [
        {
          "output_type": "execute_result",
          "data": {
            "text/plain": [
              "['__call__',\n",
              " '__class__',\n",
              " '__delattr__',\n",
              " '__dir__',\n",
              " '__doc__',\n",
              " '__eq__',\n",
              " '__format__',\n",
              " '__ge__',\n",
              " '__getattribute__',\n",
              " '__getstate__',\n",
              " '__gt__',\n",
              " '__hash__',\n",
              " '__init__',\n",
              " '__init_subclass__',\n",
              " '__le__',\n",
              " '__lt__',\n",
              " '__module__',\n",
              " '__name__',\n",
              " '__ne__',\n",
              " '__new__',\n",
              " '__qualname__',\n",
              " '__reduce__',\n",
              " '__reduce_ex__',\n",
              " '__repr__',\n",
              " '__self__',\n",
              " '__setattr__',\n",
              " '__sizeof__',\n",
              " '__str__',\n",
              " '__subclasshook__',\n",
              " '__text_signature__']"
            ]
          },
          "metadata": {},
          "execution_count": 38
        }
      ]
    },
    {
      "cell_type": "markdown",
      "source": [
        "53.\t3. Què retorna dir([])?"
      ],
      "metadata": {
        "id": "-Bls0rYG8eoD"
      }
    },
    {
      "cell_type": "code",
      "source": [
        "a = dir([])\n",
        "print(a)"
      ],
      "metadata": {
        "colab": {
          "base_uri": "https://localhost:8080/"
        },
        "id": "OuvBt8M58fbk",
        "outputId": "a5a3d087-1783-42a2-9b66-9bfb137e555d"
      },
      "execution_count": null,
      "outputs": [
        {
          "output_type": "stream",
          "name": "stdout",
          "text": [
            "['__add__', '__class__', '__class_getitem__', '__contains__', '__delattr__', '__delitem__', '__dir__', '__doc__', '__eq__', '__format__', '__ge__', '__getattribute__', '__getitem__', '__getstate__', '__gt__', '__hash__', '__iadd__', '__imul__', '__init__', '__init_subclass__', '__iter__', '__le__', '__len__', '__lt__', '__mul__', '__ne__', '__new__', '__reduce__', '__reduce_ex__', '__repr__', '__reversed__', '__rmul__', '__setattr__', '__setitem__', '__sizeof__', '__str__', '__subclasshook__', 'append', 'clear', 'copy', 'count', 'extend', 'index', 'insert', 'pop', 'remove', 'reverse', 'sort']\n"
          ]
        }
      ]
    },
    {
      "cell_type": "markdown",
      "source": [
        "54.\t4. Quina funció builtin et diu el tipus d’un valor? ***"
      ],
      "metadata": {
        "id": "Lw3iBgeO8fpJ"
      }
    },
    {
      "cell_type": "code",
      "source": [],
      "metadata": {
        "id": "vDsdsxGI8g34"
      },
      "execution_count": null,
      "outputs": []
    },
    {
      "cell_type": "markdown",
      "source": [
        "55.\t5. Com saber quins mètodes admet un diccionari?"
      ],
      "metadata": {
        "id": "5PCKjc0M8iHT"
      }
    },
    {
      "cell_type": "code",
      "source": [
        "dir(dict)"
      ],
      "metadata": {
        "colab": {
          "base_uri": "https://localhost:8080/"
        },
        "id": "LzpNjLHW8izb",
        "outputId": "afb71129-fd17-4391-9a37-b2ca7197931c"
      },
      "execution_count": null,
      "outputs": [
        {
          "output_type": "execute_result",
          "data": {
            "text/plain": [
              "['__class__',\n",
              " '__class_getitem__',\n",
              " '__contains__',\n",
              " '__delattr__',\n",
              " '__delitem__',\n",
              " '__dir__',\n",
              " '__doc__',\n",
              " '__eq__',\n",
              " '__format__',\n",
              " '__ge__',\n",
              " '__getattribute__',\n",
              " '__getitem__',\n",
              " '__getstate__',\n",
              " '__gt__',\n",
              " '__hash__',\n",
              " '__init__',\n",
              " '__init_subclass__',\n",
              " '__ior__',\n",
              " '__iter__',\n",
              " '__le__',\n",
              " '__len__',\n",
              " '__lt__',\n",
              " '__ne__',\n",
              " '__new__',\n",
              " '__or__',\n",
              " '__reduce__',\n",
              " '__reduce_ex__',\n",
              " '__repr__',\n",
              " '__reversed__',\n",
              " '__ror__',\n",
              " '__setattr__',\n",
              " '__setitem__',\n",
              " '__sizeof__',\n",
              " '__str__',\n",
              " '__subclasshook__',\n",
              " 'clear',\n",
              " 'copy',\n",
              " 'fromkeys',\n",
              " 'get',\n",
              " 'items',\n",
              " 'keys',\n",
              " 'pop',\n",
              " 'popitem',\n",
              " 'setdefault',\n",
              " 'update',\n",
              " 'values']"
            ]
          },
          "metadata": {},
          "execution_count": 42
        }
      ]
    },
    {
      "cell_type": "markdown",
      "source": [
        "56.\t6. Quina funció builtin retorna la longitud d’un objecte?"
      ],
      "metadata": {
        "id": "xtUQOoGd9xEk"
      }
    },
    {
      "cell_type": "code",
      "source": [],
      "metadata": {
        "id": "jWLDL35u9ztk"
      },
      "execution_count": null,
      "outputs": []
    },
    {
      "cell_type": "markdown",
      "source": [
        "57.\t7. Com obtenir ajuda sobre el mètode .split()?"
      ],
      "metadata": {
        "id": "ub0ILiJe9z8u"
      }
    },
    {
      "cell_type": "code",
      "source": [
        "help(split)"
      ],
      "metadata": {
        "colab": {
          "base_uri": "https://localhost:8080/"
        },
        "id": "n1SYNZmy928k",
        "outputId": "5aca0438-9a94-4a7f-91e1-fa538d9348f7"
      },
      "execution_count": null,
      "outputs": [
        {
          "output_type": "stream",
          "name": "stdout",
          "text": [
            "Help on function split in module posixpath:\n",
            "\n",
            "split(p)\n",
            "    Split a pathname.  Returns tuple \"(head, tail)\" where \"tail\" is\n",
            "    everything after the final slash.  Either part may be empty.\n",
            "\n"
          ]
        }
      ]
    },
    {
      "cell_type": "markdown",
      "source": [
        "58.\t8. Què fa help(print)?"
      ],
      "metadata": {
        "id": "HN9YCEAd91Mt"
      }
    },
    {
      "cell_type": "code",
      "source": [
        "help(print)"
      ],
      "metadata": {
        "colab": {
          "base_uri": "https://localhost:8080/"
        },
        "id": "Rv2PoV_094qd",
        "outputId": "284ce9ad-489e-4c33-d747-739ccde95cbe"
      },
      "execution_count": null,
      "outputs": [
        {
          "output_type": "stream",
          "name": "stdout",
          "text": [
            "Help on built-in function print in module builtins:\n",
            "\n",
            "print(*args, sep=' ', end='\\n', file=None, flush=False)\n",
            "    Prints the values to a stream, or to sys.stdout by default.\n",
            "    \n",
            "    sep\n",
            "      string inserted between values, default a space.\n",
            "    end\n",
            "      string appended after the last value, default a newline.\n",
            "    file\n",
            "      a file-like object (stream); defaults to the current sys.stdout.\n",
            "    flush\n",
            "      whether to forcibly flush the stream.\n",
            "\n"
          ]
        }
      ]
    },
    {
      "cell_type": "markdown",
      "source": [
        "59.\t9. Com comprovar si una funció té docstring?"
      ],
      "metadata": {
        "id": "BSs1GEMg944k"
      }
    },
    {
      "cell_type": "code",
      "source": [
        "\n",
        "'''\n",
        "__doc__\n",
        "'''\n"
      ],
      "metadata": {
        "colab": {
          "base_uri": "https://localhost:8080/",
          "height": 35
        },
        "id": "3Q0pak6f96uV",
        "outputId": "71fb4432-d4f8-40a0-bd07-c37e7e98c91f"
      },
      "execution_count": null,
      "outputs": [
        {
          "output_type": "execute_result",
          "data": {
            "text/plain": [
              "'\\n__doc__\\n'"
            ],
            "application/vnd.google.colaboratory.intrinsic+json": {
              "type": "string"
            }
          },
          "metadata": {},
          "execution_count": 56
        }
      ]
    },
    {
      "cell_type": "markdown",
      "source": [
        "60.\t10. Com veure si un mètode és callable?"
      ],
      "metadata": {
        "id": "9XiYEvy597N9"
      }
    },
    {
      "cell_type": "code",
      "source": [
        "callable\n",
        "help(callable)\n",
        "\n",
        "a = 10<6\n",
        "callable(a)"
      ],
      "metadata": {
        "colab": {
          "base_uri": "https://localhost:8080/"
        },
        "id": "D6XKvTGg982V",
        "outputId": "bdd37f2f-5935-419f-fc77-f8d816f184b3"
      },
      "execution_count": null,
      "outputs": [
        {
          "output_type": "stream",
          "name": "stdout",
          "text": [
            "Help on built-in function callable in module builtins:\n",
            "\n",
            "callable(obj, /)\n",
            "    Return whether the object is callable (i.e., some kind of function).\n",
            "    \n",
            "    Note that classes are callable, as are instances of classes with a\n",
            "    __call__() method.\n",
            "\n"
          ]
        },
        {
          "output_type": "execute_result",
          "data": {
            "text/plain": [
              "False"
            ]
          },
          "metadata": {},
          "execution_count": 59
        }
      ]
    },
    {
      "cell_type": "markdown",
      "source": [
        "61.\t1. Què retorna \"abcdef\"[2:5]?"
      ],
      "metadata": {
        "id": "4GGrLm4f-8ni"
      }
    },
    {
      "cell_type": "code",
      "source": [
        "a = \"abcdef\"[2:5]\n",
        "a"
      ],
      "metadata": {
        "colab": {
          "base_uri": "https://localhost:8080/",
          "height": 35
        },
        "id": "MseHCeSq_AJZ",
        "outputId": "021f27af-d541-4455-8ab4-94fb6b0a4338"
      },
      "execution_count": null,
      "outputs": [
        {
          "output_type": "execute_result",
          "data": {
            "text/plain": [
              "'cde'"
            ],
            "application/vnd.google.colaboratory.intrinsic+json": {
              "type": "string"
            }
          },
          "metadata": {},
          "execution_count": 78
        }
      ]
    },
    {
      "cell_type": "markdown",
      "source": [
        "62.\t2. Com obtenir els últims 3 caràcters de \"programa\"?"
      ],
      "metadata": {
        "id": "Nr-fxT6k_AUp"
      }
    },
    {
      "cell_type": "code",
      "source": [
        "a = \"programa\"\n",
        "print(a[5:])"
      ],
      "metadata": {
        "colab": {
          "base_uri": "https://localhost:8080/"
        },
        "id": "f9WWN5re_BX5",
        "outputId": "e75c336b-5249-43e6-fcbc-ee636174b937"
      },
      "execution_count": null,
      "outputs": [
        {
          "output_type": "stream",
          "name": "stdout",
          "text": [
            "ama\n"
          ]
        }
      ]
    },
    {
      "cell_type": "markdown",
      "source": [
        "63.\t3. Com invertir \"Python\"?"
      ],
      "metadata": {
        "id": "EBykr70P_B0M"
      }
    },
    {
      "cell_type": "code",
      "source": [
        "a = \"Python\"\n",
        "ainvertido = invertir_string(a)\n",
        "print(ainvertido)"
      ],
      "metadata": {
        "colab": {
          "base_uri": "https://localhost:8080/",
          "height": 736
        },
        "id": "_jOlwUOq_DPD",
        "outputId": "cd32e291-ba7b-41b0-cbd7-70f9a55d802b"
      },
      "execution_count": null,
      "outputs": [
        {
          "output_type": "error",
          "ename": "NameError",
          "evalue": "name 'invertir_string' is not defined",
          "traceback": [
            "\u001b[0;31m---------------------------------------------------------------------------\u001b[0m",
            "\u001b[0;31mNameError\u001b[0m                                 Traceback (most recent call last)",
            "\u001b[0;32m/tmp/ipython-input-1-2349367067.py\u001b[0m in \u001b[0;36m<cell line: 0>\u001b[0;34m()\u001b[0m\n\u001b[1;32m      1\u001b[0m \u001b[0ma\u001b[0m \u001b[0;34m=\u001b[0m \u001b[0;34m\"Python\"\u001b[0m\u001b[0;34m\u001b[0m\u001b[0;34m\u001b[0m\u001b[0m\n\u001b[0;32m----> 2\u001b[0;31m \u001b[0mainvertido\u001b[0m \u001b[0;34m=\u001b[0m \u001b[0minvertir_string\u001b[0m\u001b[0;34m(\u001b[0m\u001b[0ma\u001b[0m\u001b[0;34m)\u001b[0m\u001b[0;34m\u001b[0m\u001b[0;34m\u001b[0m\u001b[0m\n\u001b[0m\u001b[1;32m      3\u001b[0m \u001b[0mprint\u001b[0m\u001b[0;34m(\u001b[0m\u001b[0mainvertido\u001b[0m\u001b[0;34m)\u001b[0m\u001b[0;34m\u001b[0m\u001b[0;34m\u001b[0m\u001b[0m\n",
            "\u001b[0;31mNameError\u001b[0m: name 'invertir_string' is not defined"
          ]
        }
      ]
    },
    {
      "cell_type": "markdown",
      "source": [
        "64.\t4. Accedeix a \"Hola\" dins \"Hola món\" amb slicing."
      ],
      "metadata": {
        "id": "hgJrtAZc_Dcg"
      }
    },
    {
      "cell_type": "code",
      "source": [
        "a = \"Hola món\"\n",
        "print(a[0:4])"
      ],
      "metadata": {
        "colab": {
          "base_uri": "https://localhost:8080/"
        },
        "id": "LoUJlp-I_EgA",
        "outputId": "bc4e0985-16d5-4eac-99be-1e07d195eac9"
      },
      "execution_count": null,
      "outputs": [
        {
          "output_type": "stream",
          "name": "stdout",
          "text": [
            "Hola\n"
          ]
        }
      ]
    },
    {
      "cell_type": "markdown",
      "source": [
        "65.\t5. Què fa \"abcdef\"[::2]?"
      ],
      "metadata": {
        "id": "TrbU4bbg_E4Z"
      }
    },
    {
      "cell_type": "code",
      "source": [
        "a =  \"abcdef\"[::2]\n",
        "a"
      ],
      "metadata": {
        "colab": {
          "base_uri": "https://localhost:8080/",
          "height": 35
        },
        "id": "y_pn1i_c_GBC",
        "outputId": "87a9f5ae-ad72-4473-c96f-6293c8df2726"
      },
      "execution_count": null,
      "outputs": [
        {
          "output_type": "execute_result",
          "data": {
            "text/plain": [
              "'ace'"
            ],
            "application/vnd.google.colaboratory.intrinsic+json": {
              "type": "string"
            }
          },
          "metadata": {},
          "execution_count": 107
        }
      ]
    },
    {
      "cell_type": "markdown",
      "source": [
        "66.\t6. Com fer slicing per obtenir \"gra\" dins \"programació\"?"
      ],
      "metadata": {
        "id": "8CuRZ8_o_GVj"
      }
    },
    {
      "cell_type": "code",
      "source": [
        "a = \"programació\"\n",
        "print(a[3:6])"
      ],
      "metadata": {
        "colab": {
          "base_uri": "https://localhost:8080/"
        },
        "id": "K2PTeCAz_HnZ",
        "outputId": "3541e997-b93c-4537-d1eb-62581399ca2f"
      },
      "execution_count": null,
      "outputs": [
        {
          "output_type": "stream",
          "name": "stdout",
          "text": [
            "gra\n"
          ]
        }
      ]
    },
    {
      "cell_type": "markdown",
      "source": [
        "67.\t7. Què retorna \"Barcelona\"[3:]?"
      ],
      "metadata": {
        "id": "GwP9pzcn_H0S"
      }
    },
    {
      "cell_type": "code",
      "source": [
        "a =  \"Barcelona\"[3:]\n",
        "a"
      ],
      "metadata": {
        "colab": {
          "base_uri": "https://localhost:8080/",
          "height": 35
        },
        "id": "iZIndGoD_I4R",
        "outputId": "79f7322a-4990-498f-9cf2-936348563a9b"
      },
      "execution_count": null,
      "outputs": [
        {
          "output_type": "execute_result",
          "data": {
            "text/plain": [
              "'celona'"
            ],
            "application/vnd.google.colaboratory.intrinsic+json": {
              "type": "string"
            }
          },
          "metadata": {},
          "execution_count": 111
        }
      ]
    },
    {
      "cell_type": "markdown",
      "source": [
        "68.\t8. Com obtenir \"Barc\" amb slicing?"
      ],
      "metadata": {
        "id": "hdFo1qC0_JxQ"
      }
    },
    {
      "cell_type": "code",
      "source": [
        "a =  \"Barcelona\"[0:4]\n",
        "a"
      ],
      "metadata": {
        "colab": {
          "base_uri": "https://localhost:8080/",
          "height": 35
        },
        "id": "GJCPoNdh_KNq",
        "outputId": "f59cbf10-6a4e-4801-9dd9-0c8f7756adb0"
      },
      "execution_count": null,
      "outputs": [
        {
          "output_type": "execute_result",
          "data": {
            "text/plain": [
              "'Barc'"
            ],
            "application/vnd.google.colaboratory.intrinsic+json": {
              "type": "string"
            }
          },
          "metadata": {},
          "execution_count": 114
        }
      ]
    },
    {
      "cell_type": "markdown",
      "source": [
        "69.\t9. Com es fa per copiar tota una llista amb slicing?"
      ],
      "metadata": {
        "id": "7-SRJG6s_KkQ"
      }
    },
    {
      "cell_type": "code",
      "source": [
        "llista = [1,2,3]\n",
        "print(llista[:])\n"
      ],
      "metadata": {
        "colab": {
          "base_uri": "https://localhost:8080/"
        },
        "id": "T2rK_HgU_Luo",
        "outputId": "78a32ce1-c833-4ab2-aa4e-19e92aabdc20"
      },
      "execution_count": null,
      "outputs": [
        {
          "output_type": "stream",
          "name": "stdout",
          "text": [
            "[1, 2, 3]\n"
          ]
        }
      ]
    },
    {
      "cell_type": "markdown",
      "source": [
        "70.\t10. Què retorna llista[1:-1] si llista = [10, 20, 30, 40]?"
      ],
      "metadata": {
        "id": "Gfk6sKCn_L9z"
      }
    },
    {
      "cell_type": "code",
      "source": [
        "llista =  [10, 20, 30, 40]\n",
        "print(llista[1:-1])"
      ],
      "metadata": {
        "colab": {
          "base_uri": "https://localhost:8080/"
        },
        "id": "9DPuw5Vm_NDZ",
        "outputId": "161ab5aa-a073-4373-b9ef-ee81c371f48d"
      },
      "execution_count": null,
      "outputs": [
        {
          "output_type": "stream",
          "name": "stdout",
          "text": [
            "[20, 30]\n"
          ]
        }
      ]
    },
    {
      "cell_type": "markdown",
      "source": [
        "71.\t11. Què fa [:3] en una tupla de 5 elements?"
      ],
      "metadata": {
        "id": "PyfY1bqOC4_J"
      }
    },
    {
      "cell_type": "code",
      "source": [
        "tupla = (1,2,3,4,5)\n",
        "print(tupla[:3])"
      ],
      "metadata": {
        "colab": {
          "base_uri": "https://localhost:8080/"
        },
        "id": "jvXWqEdFC5qI",
        "outputId": "dd467d46-9414-4646-e46a-7594569edd66"
      },
      "execution_count": null,
      "outputs": [
        {
          "output_type": "stream",
          "name": "stdout",
          "text": [
            "(1, 2, 3)\n"
          ]
        }
      ]
    },
    {
      "cell_type": "markdown",
      "source": [
        "72.\t12. Com eliminar els primers 2 valors d’una llista amb slicing?"
      ],
      "metadata": {
        "id": "tcufuAqRC6r5"
      }
    },
    {
      "cell_type": "code",
      "source": [
        "llista = [1,2,3,4,5]\n",
        "print(llista[2:])"
      ],
      "metadata": {
        "colab": {
          "base_uri": "https://localhost:8080/"
        },
        "id": "R2i2MSH2C7vT",
        "outputId": "0c3287c6-f6c3-410c-d75c-e4ead96daef3"
      },
      "execution_count": null,
      "outputs": [
        {
          "output_type": "stream",
          "name": "stdout",
          "text": [
            "[3, 4, 5]\n"
          ]
        }
      ]
    },
    {
      "cell_type": "markdown",
      "source": [
        "73.\t13. Com accedir al segon i quart element d’una llista?"
      ],
      "metadata": {
        "id": "cl6I2W8QC8GR"
      }
    },
    {
      "cell_type": "code",
      "source": [
        "llista = [1,2,3], [3,4,5], [6,7,8], [9,10,11]\n",
        "print(llista[0][1])\n",
        "print(llista[1][0])\n",
        "\n"
      ],
      "metadata": {
        "colab": {
          "base_uri": "https://localhost:8080/"
        },
        "id": "yGNCzbrFC9Xx",
        "outputId": "6c0dcc1c-2d89-40e0-c97d-5ec7c318c1cc"
      },
      "execution_count": null,
      "outputs": [
        {
          "output_type": "stream",
          "name": "stdout",
          "text": [
            "2\n",
            "3\n"
          ]
        }
      ]
    },
    {
      "cell_type": "markdown",
      "source": [
        "74.\t14. Com eliminar els últims 3 caràcters d’una cadena?"
      ],
      "metadata": {
        "id": "ovZoTyKhC9pD"
      }
    },
    {
      "cell_type": "code",
      "source": [
        "caden = \"cadena\"\n",
        "print(caden[3:])"
      ],
      "metadata": {
        "colab": {
          "base_uri": "https://localhost:8080/"
        },
        "id": "-ILiSKbFC-qD",
        "outputId": "c8e78847-71fc-411a-b7ee-fceb18162136"
      },
      "execution_count": null,
      "outputs": [
        {
          "output_type": "stream",
          "name": "stdout",
          "text": [
            "ena\n"
          ]
        }
      ]
    },
    {
      "cell_type": "markdown",
      "source": [
        "75.\t15. Què fa [::-1] en qualsevol llista o cadena?"
      ],
      "metadata": {
        "id": "X5vZ4q3SC-3h"
      }
    },
    {
      "cell_type": "code",
      "source": [
        "a = \"cadena\"\n",
        "b = [1,2,3,4]\n",
        "print(a[::-1])\n",
        "print(b[::-1])"
      ],
      "metadata": {
        "colab": {
          "base_uri": "https://localhost:8080/"
        },
        "id": "_GKFxsAtDAAp",
        "outputId": "3d3efc72-061b-4e8f-850b-efbc6a72c914"
      },
      "execution_count": null,
      "outputs": [
        {
          "output_type": "stream",
          "name": "stdout",
          "text": [
            "anedac\n",
            "[4, 3, 2, 1]\n"
          ]
        }
      ]
    }
  ]
}