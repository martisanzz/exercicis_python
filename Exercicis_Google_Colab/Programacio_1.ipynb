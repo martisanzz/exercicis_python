{
  "nbformat": 4,
  "nbformat_minor": 0,
  "metadata": {
    "colab": {
      "provenance": []
    },
    "kernelspec": {
      "name": "python3",
      "display_name": "Python 3"
    },
    "language_info": {
      "name": "python"
    }
  },
  "cells": [
    {
      "cell_type": "code",
      "execution_count": null,
      "metadata": {
        "id": "C0jjoO8SzoaP"
      },
      "outputs": [],
      "source": []
    },
    {
      "cell_type": "markdown",
      "source": [
        "Vamos a hablar de los métodos de las strings. El primero de los métodos es la longitud de una cadena o len."
      ],
      "metadata": {
        "id": "7Go_II-J0A8j"
      }
    },
    {
      "cell_type": "code",
      "source": [
        "cadena =\"Hola Pesquisa\""
      ],
      "metadata": {
        "id": "7way4uAa0NeB"
      },
      "execution_count": null,
      "outputs": []
    },
    {
      "cell_type": "code",
      "source": [
        "len(cadena)"
      ],
      "metadata": {
        "colab": {
          "base_uri": "https://localhost:8080/"
        },
        "id": "bZclYP-Q0ai7",
        "outputId": "78f3ca81-e6cf-4bae-f6fe-6e11cca1bd16"
      },
      "execution_count": null,
      "outputs": [
        {
          "output_type": "execute_result",
          "data": {
            "text/plain": [
              "13"
            ]
          },
          "metadata": {},
          "execution_count": 2
        }
      ]
    },
    {
      "cell_type": "code",
      "source": [
        "for numero in range(10):\n",
        "  print(numero)"
      ],
      "metadata": {
        "colab": {
          "base_uri": "https://localhost:8080/"
        },
        "id": "6wU_FnOm1hOR",
        "outputId": "6e2e2002-cd71-4ec5-f3cd-41c0530df8fb"
      },
      "execution_count": null,
      "outputs": [
        {
          "output_type": "stream",
          "name": "stdout",
          "text": [
            "0\n",
            "1\n",
            "2\n",
            "3\n",
            "4\n",
            "5\n",
            "6\n",
            "7\n",
            "8\n",
            "9\n"
          ]
        }
      ]
    },
    {
      "cell_type": "markdown",
      "source": [
        "range(10) només agafa els números del 0 al 9 per tant no inclou el 10."
      ],
      "metadata": {
        "id": "jX1BrukX1sEJ"
      }
    },
    {
      "cell_type": "code",
      "source": [
        "\n",
        "suma = 2 + 3\n",
        "print(suma)\n",
        "\n",
        "resta = 5 - 2\n",
        "print(resta)\n",
        "\n",
        "multiplicacion = 3 * 4\n",
        "print(multiplicacion)\n",
        "\n",
        "division = 10 / 2\n",
        "print(division)\n"
      ],
      "metadata": {
        "colab": {
          "base_uri": "https://localhost:8080/"
        },
        "id": "PLofTWO216o5",
        "outputId": "2d9f10f3-7718-4a12-a8e4-4bca4ff2afe6"
      },
      "execution_count": null,
      "outputs": [
        {
          "output_type": "stream",
          "name": "stdout",
          "text": [
            "5\n",
            "3\n",
            "12\n",
            "5.0\n"
          ]
        }
      ]
    },
    {
      "cell_type": "markdown",
      "source": [
        "Aqui vemos ejemplos de operaciones basicas de matematicas.\n"
      ],
      "metadata": {
        "id": "ud4OVTej2GLB"
      }
    },
    {
      "cell_type": "code",
      "source": [
        "# Variables y tipos de datos\n",
        "nombre = \"Juan\"\n",
        "edad = 25\n",
        "altura = 1.75\n",
        "es_estudiante = True\n",
        "\n",
        "print(nombre, edad, altura, es_estudiante)\n"
      ],
      "metadata": {
        "colab": {
          "base_uri": "https://localhost:8080/"
        },
        "id": "7ShYY4112ZOh",
        "outputId": "cf8ce0b2-7653-4f0d-c165-ce29b9b9334c"
      },
      "execution_count": null,
      "outputs": [
        {
          "output_type": "stream",
          "name": "stdout",
          "text": [
            "Juan 25 1.75 True\n"
          ]
        }
      ]
    },
    {
      "cell_type": "markdown",
      "source": [
        "Aquí podemos ver variables y tipos de datos, adjuntas cada variable con sus datos y al final poner un print con todas las variables para cuando ejecutas el código salen todos los datos."
      ],
      "metadata": {
        "id": "Xuo_SKXL2e2L"
      }
    },
    {
      "cell_type": "code",
      "source": [
        "# Condicionales\n",
        "numero = -1\n",
        "\n",
        "if numero > 0:\n",
        "    print(\"El número es positivo\")\n",
        "else:\n",
        "    print(\"El número es negativo\")\n",
        "\n",
        "\n"
      ],
      "metadata": {
        "colab": {
          "base_uri": "https://localhost:8080/"
        },
        "id": "sfZC2nxo3Kd6",
        "outputId": "f7cff651-57f5-4808-cfd1-e71468dd34b3"
      },
      "execution_count": null,
      "outputs": [
        {
          "output_type": "stream",
          "name": "stdout",
          "text": [
            "El número es negativo\n"
          ]
        }
      ]
    },
    {
      "cell_type": "markdown",
      "source": [
        "Aquí podemos ver que si cambiamos el número dependiendo si es positivo o negativo salta diciendo si es negativo o positivo."
      ],
      "metadata": {
        "id": "t0O-s2I-7UkC"
      }
    },
    {
      "cell_type": "code",
      "source": [
        "\tcadena = \"Erase\\nun\\nhombre\\na una\\nnariz\\npegado\"\n"
      ],
      "metadata": {
        "id": "IJXyDQq6C9Xc"
      },
      "execution_count": null,
      "outputs": []
    },
    {
      "cell_type": "code",
      "source": [
        "print(cadena)"
      ],
      "metadata": {
        "colab": {
          "base_uri": "https://localhost:8080/"
        },
        "id": "ZP91SJyEDAxJ",
        "outputId": "df6ca461-5f10-4d75-e810-66cc71f86a9a"
      },
      "execution_count": null,
      "outputs": [
        {
          "output_type": "stream",
          "name": "stdout",
          "text": [
            "Erase\n",
            "un\n",
            "hombre\n",
            "a una\n",
            "nariz\n",
            "pegado\n"
          ]
        }
      ]
    },
    {
      "cell_type": "code",
      "source": [
        "text = '''Trucades a hores impúdiques per alertar-nos que se’ns ha bloquejat el compte corrent, correus electrònics que ens il·luminen els ulls amb ofertes sumptuoses, o un SMS que ens fa saber que tenim una multa de trànsit que cal pagar de seguida. Aquestes i moltíssimes altres modalitats que un no pot ni imaginar formen part del catàleg de possibles ciberestafes que '''"
      ],
      "metadata": {
        "id": "KTa8AUVHDZ0i"
      },
      "execution_count": null,
      "outputs": []
    },
    {
      "cell_type": "code",
      "source": [
        "text=text.split(\" \")"
      ],
      "metadata": {
        "id": "CwELLrbcEEd0"
      },
      "execution_count": null,
      "outputs": []
    },
    {
      "cell_type": "code",
      "source": [
        "text"
      ],
      "metadata": {
        "colab": {
          "base_uri": "https://localhost:8080/"
        },
        "id": "3CHCi6zIFFZa",
        "outputId": "4af4ec17-11c6-4e4c-ac91-a29534fa723e"
      },
      "execution_count": null,
      "outputs": [
        {
          "output_type": "execute_result",
          "data": {
            "text/plain": [
              "['Trucades',\n",
              " 'a',\n",
              " 'hores',\n",
              " 'impúdiques',\n",
              " 'per',\n",
              " 'alertar-nos',\n",
              " 'que',\n",
              " 'se’ns',\n",
              " 'ha',\n",
              " 'bloquejat',\n",
              " 'el',\n",
              " 'compte',\n",
              " 'corrent,',\n",
              " 'correus',\n",
              " 'electrònics',\n",
              " 'que',\n",
              " 'ens',\n",
              " 'il·luminen',\n",
              " 'els',\n",
              " 'ulls',\n",
              " 'amb',\n",
              " 'ofertes',\n",
              " 'sumptuoses,',\n",
              " 'o',\n",
              " 'un',\n",
              " 'SMS',\n",
              " 'que',\n",
              " 'ens',\n",
              " 'fa',\n",
              " 'saber',\n",
              " 'que',\n",
              " 'tenim',\n",
              " 'una',\n",
              " 'multa',\n",
              " 'de',\n",
              " 'trànsit',\n",
              " 'que',\n",
              " 'cal',\n",
              " 'pagar',\n",
              " 'de',\n",
              " 'seguida.',\n",
              " 'Aquestes',\n",
              " 'i',\n",
              " 'moltíssimes',\n",
              " 'altres',\n",
              " 'modalitats',\n",
              " 'que',\n",
              " 'un',\n",
              " 'no',\n",
              " 'pot',\n",
              " 'ni',\n",
              " 'imaginar',\n",
              " 'formen',\n",
              " 'part',\n",
              " 'del',\n",
              " 'catàleg',\n",
              " 'de',\n",
              " 'possibles',\n",
              " 'ciberestafes',\n",
              " 'que',\n",
              " '']"
            ]
          },
          "metadata": {},
          "execution_count": 47
        }
      ]
    },
    {
      "cell_type": "code",
      "source": [
        "llista = [[1,2,3], [3,4,5], [8,9,6]]\n"
      ],
      "metadata": {
        "id": "fFnwh_xxGyHA"
      },
      "execution_count": null,
      "outputs": []
    },
    {
      "cell_type": "code",
      "source": [
        "print(llista)"
      ],
      "metadata": {
        "colab": {
          "base_uri": "https://localhost:8080/"
        },
        "id": "b7wbMSg4Iy16",
        "outputId": "a025dfab-7c65-4659-fddd-040b7fbe3681"
      },
      "execution_count": null,
      "outputs": [
        {
          "output_type": "stream",
          "name": "stdout",
          "text": [
            "[[1, 2, 3], [3, 4, 5], [8, 9, 6]]\n"
          ]
        }
      ]
    },
    {
      "cell_type": "code",
      "source": [
        "print(llista[2])"
      ],
      "metadata": {
        "colab": {
          "base_uri": "https://localhost:8080/"
        },
        "id": "NVtAwGuRI6CB",
        "outputId": "ebbef018-5171-4ba2-b493-a8d0ea1fe933"
      },
      "execution_count": null,
      "outputs": [
        {
          "output_type": "stream",
          "name": "stdout",
          "text": [
            "[8, 9, 6]\n"
          ]
        }
      ]
    },
    {
      "cell_type": "code",
      "source": [
        "print(llista[1][2])"
      ],
      "metadata": {
        "colab": {
          "base_uri": "https://localhost:8080/"
        },
        "id": "2ri2fFVBI_CB",
        "outputId": "8b5f6edc-deef-4972-bb1a-5d5821f1e1e6"
      },
      "execution_count": null,
      "outputs": [
        {
          "output_type": "stream",
          "name": "stdout",
          "text": [
            "5\n"
          ]
        }
      ]
    },
    {
      "cell_type": "code",
      "source": [
        "type(llista)"
      ],
      "metadata": {
        "colab": {
          "base_uri": "https://localhost:8080/"
        },
        "id": "0y0tjZZBIXMx",
        "outputId": "ab0c737f-4cfd-4bb8-bef6-cd8daeb72c25"
      },
      "execution_count": null,
      "outputs": [
        {
          "output_type": "execute_result",
          "data": {
            "text/plain": [
              "list"
            ]
          },
          "metadata": {},
          "execution_count": 53
        }
      ]
    },
    {
      "cell_type": "code",
      "source": [
        "type(llista[1][1])"
      ],
      "metadata": {
        "colab": {
          "base_uri": "https://localhost:8080/"
        },
        "id": "Dy5cEXDxIb8a",
        "outputId": "9929ff3a-882f-47cf-e539-276e2d540e91"
      },
      "execution_count": null,
      "outputs": [
        {
          "output_type": "execute_result",
          "data": {
            "text/plain": [
              "int"
            ]
          },
          "metadata": {},
          "execution_count": 54
        }
      ]
    },
    {
      "cell_type": "markdown",
      "source": [
        "Listas\n"
      ],
      "metadata": {
        "id": "55mb_PDvJeQS"
      }
    },
    {
      "cell_type": "code",
      "source": [
        "\tllista = [(1,2,3), (3,4,5), (8,9,6)]\n"
      ],
      "metadata": {
        "id": "R2vL3dGEJg1g"
      },
      "execution_count": null,
      "outputs": []
    },
    {
      "cell_type": "code",
      "source": [
        "print(llista)"
      ],
      "metadata": {
        "colab": {
          "base_uri": "https://localhost:8080/"
        },
        "id": "Fneawx0PKNg6",
        "outputId": "8cc81e2d-2e11-48aa-856a-7554f72561aa"
      },
      "execution_count": null,
      "outputs": [
        {
          "output_type": "stream",
          "name": "stdout",
          "text": [
            "[(1, 2, 3), (3, 4, 5), (8, 9, 6)]\n"
          ]
        }
      ]
    },
    {
      "cell_type": "code",
      "source": [
        "llista[2]"
      ],
      "metadata": {
        "colab": {
          "base_uri": "https://localhost:8080/"
        },
        "id": "eH7eFUSwKY1g",
        "outputId": "8434a56f-664f-4ceb-a10c-31a908d6fb2e"
      },
      "execution_count": null,
      "outputs": [
        {
          "output_type": "execute_result",
          "data": {
            "text/plain": [
              "(8, 9, 6)"
            ]
          },
          "metadata": {},
          "execution_count": 68
        }
      ]
    },
    {
      "cell_type": "code",
      "source": [
        "llista[2][1]"
      ],
      "metadata": {
        "colab": {
          "base_uri": "https://localhost:8080/"
        },
        "id": "_4dzyH2bKdzC",
        "outputId": "d0fb40fb-08aa-408e-8f11-707b42c4dae7"
      },
      "execution_count": null,
      "outputs": [
        {
          "output_type": "execute_result",
          "data": {
            "text/plain": [
              "9"
            ]
          },
          "metadata": {},
          "execution_count": 69
        }
      ]
    },
    {
      "cell_type": "code",
      "source": [
        "type(llista[2])"
      ],
      "metadata": {
        "colab": {
          "base_uri": "https://localhost:8080/"
        },
        "id": "DbomgcqwKgqi",
        "outputId": "cc1b9952-7116-4777-a57d-35caf5ea6c70"
      },
      "execution_count": null,
      "outputs": [
        {
          "output_type": "execute_result",
          "data": {
            "text/plain": [
              "tuple"
            ]
          },
          "metadata": {},
          "execution_count": 70
        }
      ]
    },
    {
      "cell_type": "code",
      "source": [
        "type(llista[2][1])"
      ],
      "metadata": {
        "colab": {
          "base_uri": "https://localhost:8080/"
        },
        "id": "3r5V8GsyKkeq",
        "outputId": "63649346-22d4-4355-ff87-cb5522378508"
      },
      "execution_count": null,
      "outputs": [
        {
          "output_type": "execute_result",
          "data": {
            "text/plain": [
              "int"
            ]
          },
          "metadata": {},
          "execution_count": 71
        }
      ]
    },
    {
      "cell_type": "markdown",
      "source": [
        "Esto son parecidos a las listas pero son tuples, la diferencia a las listas es que las tuples van en parantesis."
      ],
      "metadata": {
        "id": "uTDuS-pVLQEq"
      }
    },
    {
      "cell_type": "code",
      "source": [
        "set_lista= {1,2.,\"3\",(4),(6)}"
      ],
      "metadata": {
        "id": "Dom0PwNrLgBD"
      },
      "execution_count": null,
      "outputs": []
    },
    {
      "cell_type": "code",
      "source": [
        "set_lista\n",
        "type(set_lista)"
      ],
      "metadata": {
        "colab": {
          "base_uri": "https://localhost:8080/"
        },
        "id": "MpXTcTvSPOf6",
        "outputId": "47d235df-010a-41ab-efa9-0a57ac244f6e"
      },
      "execution_count": null,
      "outputs": [
        {
          "output_type": "execute_result",
          "data": {
            "text/plain": [
              "set"
            ]
          },
          "metadata": {},
          "execution_count": 3
        }
      ]
    },
    {
      "cell_type": "code",
      "source": [
        "for element in set_lista:\n",
        "  print(element)"
      ],
      "metadata": {
        "colab": {
          "base_uri": "https://localhost:8080/"
        },
        "id": "1__bduCxPj7A",
        "outputId": "7b0c351f-7a0c-47df-a36b-bf2ec6a30f47"
      },
      "execution_count": null,
      "outputs": [
        {
          "output_type": "stream",
          "name": "stdout",
          "text": [
            "1\n",
            "2.0\n",
            "4\n",
            "6\n",
            "3\n"
          ]
        }
      ]
    },
    {
      "cell_type": "markdown",
      "source": [
        "**Set** es una colecion de elementos pero que no estan ordenados como las listas o los tuple."
      ],
      "metadata": {
        "id": "85h8ICOgQgTQ"
      }
    },
    {
      "cell_type": "markdown",
      "source": [
        "cambiar tipologia de una data\n",
        "\n",
        "int --> float\n",
        "\n",
        "float --> int\n",
        "\n",
        "lista --> tupla\n",
        "\n",
        "tupla --> lista\n",
        "\n",
        "lista --> set\n",
        "\n",
        "tuple --> set\n",
        "\n",
        "set --> lista\n",
        "\n",
        "set --> tuple"
      ],
      "metadata": {
        "id": "IofRqoaDVyrJ"
      }
    },
    {
      "cell_type": "code",
      "source": [
        "entero = 10"
      ],
      "metadata": {
        "id": "Iz889QzIWLVA"
      },
      "execution_count": null,
      "outputs": []
    },
    {
      "cell_type": "code",
      "source": [
        "type(entero)"
      ],
      "metadata": {
        "colab": {
          "base_uri": "https://localhost:8080/"
        },
        "id": "nh05wCWuWPtY",
        "outputId": "c42fc862-f22d-496f-9f15-eb5718c5ce07"
      },
      "execution_count": null,
      "outputs": [
        {
          "output_type": "execute_result",
          "data": {
            "text/plain": [
              "int"
            ]
          },
          "metadata": {},
          "execution_count": 101
        }
      ]
    },
    {
      "cell_type": "code",
      "source": [
        "float(entero)"
      ],
      "metadata": {
        "colab": {
          "base_uri": "https://localhost:8080/"
        },
        "id": "4ui-G6O8WcFD",
        "outputId": "05b5d27a-7604-4c3e-bfcb-3aea85ba42d3"
      },
      "execution_count": null,
      "outputs": [
        {
          "output_type": "execute_result",
          "data": {
            "text/plain": [
              "10.0"
            ]
          },
          "metadata": {},
          "execution_count": 102
        }
      ]
    },
    {
      "cell_type": "code",
      "source": [
        "entero2float = float(entero)"
      ],
      "metadata": {
        "id": "jV07YZBpXBGi"
      },
      "execution_count": null,
      "outputs": []
    },
    {
      "cell_type": "code",
      "source": [
        "entero, type(entero)"
      ],
      "metadata": {
        "colab": {
          "base_uri": "https://localhost:8080/"
        },
        "id": "177txPY5Xdch",
        "outputId": "a774a979-f029-4a87-9aea-8eefa4cb2d93"
      },
      "execution_count": null,
      "outputs": [
        {
          "output_type": "execute_result",
          "data": {
            "text/plain": [
              "(10, int)"
            ]
          },
          "metadata": {},
          "execution_count": 106
        }
      ]
    },
    {
      "cell_type": "code",
      "source": [
        "entero2float, type(entero2float)"
      ],
      "metadata": {
        "colab": {
          "base_uri": "https://localhost:8080/"
        },
        "id": "OOHElS7HXgrL",
        "outputId": "0b326d82-fc55-41c9-a2d5-2b4863e86250"
      },
      "execution_count": null,
      "outputs": [
        {
          "output_type": "execute_result",
          "data": {
            "text/plain": [
              "(10.0, float)"
            ]
          },
          "metadata": {},
          "execution_count": 107
        }
      ]
    },
    {
      "cell_type": "markdown",
      "source": [
        "De int a float\n"
      ],
      "metadata": {
        "id": "lwR1pWpuYREK"
      }
    },
    {
      "cell_type": "code",
      "source": [
        "enterofloat = 9.0"
      ],
      "metadata": {
        "id": "emx8m9utX424"
      },
      "execution_count": null,
      "outputs": []
    },
    {
      "cell_type": "code",
      "source": [
        "enterofloat, type(enterofloat)"
      ],
      "metadata": {
        "colab": {
          "base_uri": "https://localhost:8080/"
        },
        "id": "BA24B3mlX9YT",
        "outputId": "06522903-0b28-400b-aeac-c6fe715d6a86"
      },
      "execution_count": null,
      "outputs": [
        {
          "output_type": "execute_result",
          "data": {
            "text/plain": [
              "(9.0, float)"
            ]
          },
          "metadata": {},
          "execution_count": 142
        }
      ]
    },
    {
      "cell_type": "code",
      "source": [
        "entero1 = int(enterofloat)"
      ],
      "metadata": {
        "id": "FU8vVSSaYDpX"
      },
      "execution_count": null,
      "outputs": []
    },
    {
      "cell_type": "code",
      "source": [
        "entero1, type(entero1)"
      ],
      "metadata": {
        "colab": {
          "base_uri": "https://localhost:8080/"
        },
        "id": "5MdTKASrYHxX",
        "outputId": "3021a843-bd02-4a32-a585-1f6ff32a256d"
      },
      "execution_count": null,
      "outputs": [
        {
          "output_type": "execute_result",
          "data": {
            "text/plain": [
              "(9, int)"
            ]
          },
          "metadata": {},
          "execution_count": 144
        }
      ]
    },
    {
      "cell_type": "markdown",
      "source": [
        "De float a int"
      ],
      "metadata": {
        "id": "f1WPxKS9YUBX"
      }
    },
    {
      "cell_type": "code",
      "source": [
        "numero = 15.5\n",
        "decimal = numero -int(numero)\n",
        "'''\n",
        "if decimal < 0.5:\n",
        "  print(int(numero))\n",
        "else:\n",
        "  print(int(numero)+1)\n",
        "'''\n",
        "print(round(numero))"
      ],
      "metadata": {
        "colab": {
          "base_uri": "https://localhost:8080/"
        },
        "id": "QlpE6iu7Zif6",
        "outputId": "6b032770-ad2e-4541-d11b-b9711be57ad1"
      },
      "execution_count": null,
      "outputs": [
        {
          "output_type": "stream",
          "name": "stdout",
          "text": [
            "16\n"
          ]
        }
      ]
    },
    {
      "cell_type": "markdown",
      "source": [
        "Si pones un decimal te dice el numero exacto, es decir si es menor a 0.4 te dara el numero entero menor y si es mayor a 0.5 te dara el numero entero mayor."
      ],
      "metadata": {
        "id": "S5V__Zcmama6"
      }
    },
    {
      "cell_type": "code",
      "source": [
        "lista1 = [1,3,5,2,4,6]"
      ],
      "metadata": {
        "id": "JThvjgkhYWn6"
      },
      "execution_count": null,
      "outputs": []
    },
    {
      "cell_type": "code",
      "source": [
        "lista1, type(lista1)"
      ],
      "metadata": {
        "colab": {
          "base_uri": "https://localhost:8080/"
        },
        "id": "gnZMAFrqYzvI",
        "outputId": "ba90ac3d-d0af-47b6-e5e8-0c21ef47a1a9"
      },
      "execution_count": null,
      "outputs": [
        {
          "output_type": "execute_result",
          "data": {
            "text/plain": [
              "([1, 3, 5, 2, 4, 6], list)"
            ]
          },
          "metadata": {},
          "execution_count": 155
        }
      ]
    },
    {
      "cell_type": "code",
      "source": [
        "tuplelista = tuple(lista1)"
      ],
      "metadata": {
        "id": "JE7apDGPZGtY"
      },
      "execution_count": null,
      "outputs": []
    },
    {
      "cell_type": "code",
      "source": [
        "tuplelista, type(tuplelista)"
      ],
      "metadata": {
        "colab": {
          "base_uri": "https://localhost:8080/"
        },
        "id": "k7GW2db1ZS6f",
        "outputId": "45178290-aa44-4217-84b7-63b844e9dc82"
      },
      "execution_count": null,
      "outputs": [
        {
          "output_type": "execute_result",
          "data": {
            "text/plain": [
              "((1, 3, 5, 2, 4, 6), tuple)"
            ]
          },
          "metadata": {},
          "execution_count": 157
        }
      ]
    },
    {
      "cell_type": "markdown",
      "source": [
        "Aqui hemos transforado una lista de 1-6 a una tuple."
      ],
      "metadata": {
        "id": "Ta-WgeO9cwKo"
      }
    },
    {
      "cell_type": "code",
      "source": [
        "tuple = (1,2,3,4,5,6)\n",
        "print(list(tuple))"
      ],
      "metadata": {
        "colab": {
          "base_uri": "https://localhost:8080/"
        },
        "id": "8_1ifwtRdNa4",
        "outputId": "d75cf2c9-eab2-4791-d3e4-02eae298904c"
      },
      "execution_count": null,
      "outputs": [
        {
          "output_type": "stream",
          "name": "stdout",
          "text": [
            "[1, 2, 3, 4, 5, 6]\n"
          ]
        }
      ]
    },
    {
      "cell_type": "markdown",
      "source": [
        "Aqui de una tuple a una lista"
      ],
      "metadata": {
        "id": "GG_DUvMrdhNT"
      }
    },
    {
      "cell_type": "code",
      "source": [
        "repetits = [1,1,1,1,2,2,2,4,4,4,5,6,7,6,5]\n",
        "print (set(repetits))\n",
        "print (type(repetits))\n",
        "collect = set(repetits)\n",
        "print (collect)\n",
        "print (repetits,collect)"
      ],
      "metadata": {
        "colab": {
          "base_uri": "https://localhost:8080/"
        },
        "id": "tAhN7mgYfLwE",
        "outputId": "854000b7-e26d-4447-9ec8-111b7d58b729"
      },
      "execution_count": null,
      "outputs": [
        {
          "output_type": "stream",
          "name": "stdout",
          "text": [
            "{1, 2, 4, 5, 6, 7}\n",
            "<class 'list'>\n",
            "{1, 2, 4, 5, 6, 7}\n",
            "[1, 1, 1, 1, 2, 2, 2, 4, 4, 4, 5, 6, 7, 6, 5] {1, 2, 4, 5, 6, 7}\n"
          ]
        }
      ]
    },
    {
      "cell_type": "code",
      "source": [
        "\n",
        "cadena1 = input(\"escriu 1ª cadena : \")\n",
        "cadena2 = input(\"Escriu 2ª cadena: \")\n",
        "\n",
        "for posicio in range(len(cadena1)):\n",
        "  if cadena2 in cadena1:\n",
        "    print(\"la cadena2 está en la cadena1\")\n",
        "  else:\n",
        "    print('no está en la cadena 1')"
      ],
      "metadata": {
        "colab": {
          "base_uri": "https://localhost:8080/"
        },
        "id": "qyBy_3OVEcLc",
        "outputId": "a8e8c509-9cc9-41e7-cf11-4865f297653c"
      },
      "execution_count": null,
      "outputs": [
        {
          "output_type": "stream",
          "name": "stdout",
          "text": [
            "escriu 1ª cadena : bar\n",
            "Escriu 2ª cadena: ar\n",
            "la cadena2 está en la cadena1\n",
            "la cadena2 está en la cadena1\n",
            "la cadena2 está en la cadena1\n"
          ]
        }
      ]
    },
    {
      "cell_type": "code",
      "source": [
        "cadena = input(\"Introdueix una paraula\")\n",
        "cadena2 = \"\"\n",
        "\n",
        "for palabra in cadena:\n",
        "    cadena2 = cadena2 + palabra\n",
        "    print(cadena2)"
      ],
      "metadata": {
        "colab": {
          "base_uri": "https://localhost:8080/",
          "height": 383
        },
        "id": "6HNapAg5IThW",
        "outputId": "c01f8594-3cf2-4b2f-c696-92bebe2fe371"
      },
      "execution_count": null,
      "outputs": [
        {
          "output_type": "error",
          "ename": "KeyboardInterrupt",
          "evalue": "Interrupted by user",
          "traceback": [
            "\u001b[0;31m---------------------------------------------------------------------------\u001b[0m",
            "\u001b[0;31mKeyboardInterrupt\u001b[0m                         Traceback (most recent call last)",
            "\u001b[0;32m/tmp/ipython-input-15-687870503.py\u001b[0m in \u001b[0;36m<cell line: 0>\u001b[0;34m()\u001b[0m\n\u001b[0;32m----> 1\u001b[0;31m \u001b[0mcadena\u001b[0m \u001b[0;34m=\u001b[0m \u001b[0minput\u001b[0m\u001b[0;34m(\u001b[0m\u001b[0;34m\"Introdueix una paraula\"\u001b[0m\u001b[0;34m)\u001b[0m\u001b[0;34m\u001b[0m\u001b[0;34m\u001b[0m\u001b[0m\n\u001b[0m\u001b[1;32m      2\u001b[0m \u001b[0mcadena2\u001b[0m \u001b[0;34m=\u001b[0m \u001b[0;34m\"\"\u001b[0m\u001b[0;34m\u001b[0m\u001b[0;34m\u001b[0m\u001b[0m\n\u001b[1;32m      3\u001b[0m \u001b[0;34m\u001b[0m\u001b[0m\n\u001b[1;32m      4\u001b[0m \u001b[0;32mfor\u001b[0m \u001b[0mpalabra\u001b[0m \u001b[0;32min\u001b[0m \u001b[0mcadena\u001b[0m\u001b[0;34m:\u001b[0m\u001b[0;34m\u001b[0m\u001b[0;34m\u001b[0m\u001b[0m\n\u001b[1;32m      5\u001b[0m     \u001b[0mcadena2\u001b[0m \u001b[0;34m=\u001b[0m \u001b[0mcadena2\u001b[0m \u001b[0;34m+\u001b[0m \u001b[0mpalabra\u001b[0m\u001b[0;34m\u001b[0m\u001b[0;34m\u001b[0m\u001b[0m\n",
            "\u001b[0;32m/usr/local/lib/python3.11/dist-packages/ipykernel/kernelbase.py\u001b[0m in \u001b[0;36mraw_input\u001b[0;34m(self, prompt)\u001b[0m\n\u001b[1;32m   1175\u001b[0m                 \u001b[0;34m\"raw_input was called, but this frontend does not support input requests.\"\u001b[0m\u001b[0;34m\u001b[0m\u001b[0;34m\u001b[0m\u001b[0m\n\u001b[1;32m   1176\u001b[0m             )\n\u001b[0;32m-> 1177\u001b[0;31m         return self._input_request(\n\u001b[0m\u001b[1;32m   1178\u001b[0m             \u001b[0mstr\u001b[0m\u001b[0;34m(\u001b[0m\u001b[0mprompt\u001b[0m\u001b[0;34m)\u001b[0m\u001b[0;34m,\u001b[0m\u001b[0;34m\u001b[0m\u001b[0;34m\u001b[0m\u001b[0m\n\u001b[1;32m   1179\u001b[0m             \u001b[0mself\u001b[0m\u001b[0;34m.\u001b[0m\u001b[0m_parent_ident\u001b[0m\u001b[0;34m[\u001b[0m\u001b[0;34m\"shell\"\u001b[0m\u001b[0;34m]\u001b[0m\u001b[0;34m,\u001b[0m\u001b[0;34m\u001b[0m\u001b[0;34m\u001b[0m\u001b[0m\n",
            "\u001b[0;32m/usr/local/lib/python3.11/dist-packages/ipykernel/kernelbase.py\u001b[0m in \u001b[0;36m_input_request\u001b[0;34m(self, prompt, ident, parent, password)\u001b[0m\n\u001b[1;32m   1217\u001b[0m             \u001b[0;32mexcept\u001b[0m \u001b[0mKeyboardInterrupt\u001b[0m\u001b[0;34m:\u001b[0m\u001b[0;34m\u001b[0m\u001b[0;34m\u001b[0m\u001b[0m\n\u001b[1;32m   1218\u001b[0m                 \u001b[0;31m# re-raise KeyboardInterrupt, to truncate traceback\u001b[0m\u001b[0;34m\u001b[0m\u001b[0;34m\u001b[0m\u001b[0m\n\u001b[0;32m-> 1219\u001b[0;31m                 \u001b[0;32mraise\u001b[0m \u001b[0mKeyboardInterrupt\u001b[0m\u001b[0;34m(\u001b[0m\u001b[0;34m\"Interrupted by user\"\u001b[0m\u001b[0;34m)\u001b[0m \u001b[0;32mfrom\u001b[0m \u001b[0;32mNone\u001b[0m\u001b[0;34m\u001b[0m\u001b[0;34m\u001b[0m\u001b[0m\n\u001b[0m\u001b[1;32m   1220\u001b[0m             \u001b[0;32mexcept\u001b[0m \u001b[0mException\u001b[0m\u001b[0;34m:\u001b[0m\u001b[0;34m\u001b[0m\u001b[0;34m\u001b[0m\u001b[0m\n\u001b[1;32m   1221\u001b[0m                 \u001b[0mself\u001b[0m\u001b[0;34m.\u001b[0m\u001b[0mlog\u001b[0m\u001b[0;34m.\u001b[0m\u001b[0mwarning\u001b[0m\u001b[0;34m(\u001b[0m\u001b[0;34m\"Invalid Message:\"\u001b[0m\u001b[0;34m,\u001b[0m \u001b[0mexc_info\u001b[0m\u001b[0;34m=\u001b[0m\u001b[0;32mTrue\u001b[0m\u001b[0;34m)\u001b[0m\u001b[0;34m\u001b[0m\u001b[0;34m\u001b[0m\u001b[0m\n",
            "\u001b[0;31mKeyboardInterrupt\u001b[0m: Interrupted by user"
          ]
        }
      ]
    }
  ]
}