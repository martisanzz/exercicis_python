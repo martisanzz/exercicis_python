{
  "nbformat": 4,
  "nbformat_minor": 0,
  "metadata": {
    "colab": {
      "provenance": []
    },
    "kernelspec": {
      "name": "python3",
      "display_name": "Python 3"
    },
    "language_info": {
      "name": "python"
    }
  },
  "cells": [
    {
      "cell_type": "code",
      "source": [
        "numero = 10.6\n",
        "\n",
        "print(numero -int(numero) > 0.5)"
      ],
      "metadata": {
        "colab": {
          "base_uri": "https://localhost:8080/"
        },
        "id": "AZvLhurz_yNS",
        "outputId": "6c83d36d-d6bd-41f5-8b0d-384d6462ae43"
      },
      "execution_count": null,
      "outputs": [
        {
          "output_type": "stream",
          "name": "stdout",
          "text": [
            "True\n"
          ]
        }
      ]
    },
    {
      "cell_type": "code",
      "source": [
        "buleana = True\n",
        "print(type(buleana))"
      ],
      "metadata": {
        "colab": {
          "base_uri": "https://localhost:8080/"
        },
        "id": "CwaRw5w7AXPK",
        "outputId": "6faca674-5ccc-49db-8280-18efdc6b3263"
      },
      "execution_count": null,
      "outputs": [
        {
          "output_type": "stream",
          "name": "stdout",
          "text": [
            "<class 'bool'>\n"
          ]
        }
      ]
    },
    {
      "cell_type": "markdown",
      "source": [
        "Aixo es una BOOL que es una condicio que ha de ser True o False."
      ],
      "metadata": {
        "id": "m4XRouGEAf5S"
      }
    },
    {
      "cell_type": "markdown",
      "source": [
        "Ara anem a parlar del dictionary que representa el type dict.\n"
      ],
      "metadata": {
        "id": "ou02TStRKnJm"
      }
    },
    {
      "cell_type": "code",
      "source": [
        "diccionari = {\n",
        "    \"ara\": \"Moment Actual\",\n",
        "    \"ahir\": \"Un dia abans del moment actual\",\n",
        "    \"demà\": \"Un dia després del moment actual\"\n",
        "    }\n",
        "\n",
        "print(diccionari[\"demà\"])\n"
      ],
      "metadata": {
        "colab": {
          "base_uri": "https://localhost:8080/"
        },
        "id": "JyuyH1tHNDwm",
        "outputId": "34613419-4027-4185-a00a-3135d5cd7e03"
      },
      "execution_count": null,
      "outputs": [
        {
          "output_type": "stream",
          "name": "stdout",
          "text": [
            "Un dia després del moment actual\n"
          ]
        }
      ]
    },
    {
      "cell_type": "markdown",
      "source": [
        "diccionari = {clau1: valor1, clau2: valor2, clau3: valor3, ..., claun: valorn}\n",
        "\n",
        "diccionari[clau1] = valor1\n",
        "diccionari[clau2] = valor2\n",
        "diccionari[clau3] = valor3\n",
        "# -----\n",
        "diccionari[claun] = valorn"
      ],
      "metadata": {
        "id": "DVF2a2B7NU3c"
      }
    },
    {
      "cell_type": "code",
      "source": [],
      "metadata": {
        "id": "z3Xry_SRNecF"
      },
      "execution_count": null,
      "outputs": []
    },
    {
      "cell_type": "code",
      "source": [
        "dicc = input(\"Quina paraula hi busques?\")\n",
        "\n",
        "diccionari = {\n",
        "    \"Kiwi\": (\"fruita\", \"citric\"),\n",
        "    \"galldindi\": \"proteina\",\n",
        "    \"patata\": \"hidrat\",\n",
        "    \"poma\": \"fruita\"\n",
        "}\n",
        "\n",
        "if dicc in diccionari:\n",
        "    print(diccionari[dicc])\n",
        "else:\n",
        "    print(\"La paraula no es troba al diccionari.\")"
      ],
      "metadata": {
        "colab": {
          "base_uri": "https://localhost:8080/"
        },
        "id": "Fmu_UzGAWbSv",
        "outputId": "b7c8baf6-b92a-4339-e0dc-6463bf709aee"
      },
      "execution_count": null,
      "outputs": [
        {
          "output_type": "stream",
          "name": "stdout",
          "text": [
            "Quina paraula hi busques?Kiwi\n",
            "('fruita', 'citric')\n"
          ]
        }
      ]
    },
    {
      "cell_type": "code",
      "source": [
        "diccionari = {}\n",
        "\n",
        "diccionari[\"Kiwi\"] = \"fruita\"\n",
        "\n",
        "diccionari[\"galldindi\"] = \"proteina\"\n",
        "\n",
        "diccionari[\"patata\"] = \"hidrat\"\n",
        "\n",
        "diccionari[\"poma\"] = \"fruita\"\n",
        "\n",
        "print(diccionari)\n",
        "\n",
        "print(diccionari.keys())\n",
        "\n",
        "print(diccionari.values())"
      ],
      "metadata": {
        "colab": {
          "base_uri": "https://localhost:8080/"
        },
        "id": "uB9xUSMqaQTn",
        "outputId": "cca5bcbb-4451-469a-8653-1f56a2986f41"
      },
      "execution_count": null,
      "outputs": [
        {
          "output_type": "stream",
          "name": "stdout",
          "text": [
            "{'Kiwi': 'fruita', 'galldindi': 'proteina', 'patata': 'hidrat', 'poma': 'fruita'}\n",
            "dict_keys(['Kiwi', 'galldindi', 'patata', 'poma'])\n",
            "dict_values(['fruita', 'proteina', 'hidrat', 'fruita'])\n"
          ]
        }
      ]
    },
    {
      "cell_type": "code",
      "source": [
        "for clau in diccionari.keys():\n",
        "    print(clau)"
      ],
      "metadata": {
        "colab": {
          "base_uri": "https://localhost:8080/"
        },
        "id": "Tp6CE4wsaRy-",
        "outputId": "0084b6ec-d366-4b11-b628-174d4b5904aa"
      },
      "execution_count": null,
      "outputs": [
        {
          "output_type": "stream",
          "name": "stdout",
          "text": [
            "Kiwi\n",
            "galldindi\n",
            "patata\n",
            "poma\n"
          ]
        }
      ]
    },
    {
      "cell_type": "code",
      "source": [
        "for value in diccionari.values():\n",
        "    print(value)"
      ],
      "metadata": {
        "colab": {
          "base_uri": "https://localhost:8080/"
        },
        "id": "AnypJWZuaTgW",
        "outputId": "0c9a30be-6aca-4612-d08d-f5502a646aba"
      },
      "execution_count": null,
      "outputs": [
        {
          "output_type": "stream",
          "name": "stdout",
          "text": [
            "fruita\n",
            "proteina\n",
            "hidrat\n",
            "fruita\n"
          ]
        }
      ]
    },
    {
      "cell_type": "code",
      "source": [
        "for clau in diccionari.keys():\n",
        "    if diccionari[clau] ==\"fruita\":\n",
        "        print(clau)"
      ],
      "metadata": {
        "colab": {
          "base_uri": "https://localhost:8080/"
        },
        "id": "sbAIESesaW4t",
        "outputId": "76d00a54-608a-49db-afb9-bdf9c5727f9e"
      },
      "execution_count": null,
      "outputs": [
        {
          "output_type": "stream",
          "name": "stdout",
          "text": [
            "Kiwi\n",
            "poma\n"
          ]
        }
      ]
    },
    {
      "cell_type": "markdown",
      "source": [
        "40.\t5. Com accedir al 3r caràcter del segon element d'una llista de cadenes?"
      ],
      "metadata": {
        "id": "7ldGzUNvMaDF"
      }
    },
    {
      "cell_type": "code",
      "source": [
        "llista = [1,2,3,4]\n",
        "print(llista[3])\n"
      ],
      "metadata": {
        "colab": {
          "base_uri": "https://localhost:8080/"
        },
        "id": "wzfN8-lz06Ps",
        "outputId": "af86a9f5-c4c5-4d7b-a2f6-e8def56282a6"
      },
      "execution_count": null,
      "outputs": [
        {
          "output_type": "stream",
          "name": "stdout",
          "text": [
            "4\n"
          ]
        }
      ]
    },
    {
      "cell_type": "markdown",
      "source": [
        "41.\t6. Accedeix a la clau \"c\" de la tercera posició en [{}, {}, {\"c\": 3}]."
      ],
      "metadata": {
        "id": "lX8GIRmX1Osm"
      }
    },
    {
      "cell_type": "code",
      "source": [
        "llista = [{}, {}, {\"c\": 3}]\n",
        "valor = llista[2][\"c\"]\n",
        "print(valor)\n"
      ],
      "metadata": {
        "colab": {
          "base_uri": "https://localhost:8080/"
        },
        "id": "DqDyQnOv1U2e",
        "outputId": "6c919457-b21f-4826-e9bc-c1717b3fa6cb"
      },
      "execution_count": null,
      "outputs": [
        {
          "output_type": "stream",
          "name": "stdout",
          "text": [
            "3\n"
          ]
        }
      ]
    },
    {
      "cell_type": "markdown",
      "source": [
        "42.\t7. Com accedir a \"abc\" dins [[[\"abc\"]]]?"
      ],
      "metadata": {
        "id": "CSTcjj7w2N3s"
      }
    },
    {
      "cell_type": "code",
      "source": [
        "a = [[[\"abc\"]]]\n",
        "print(a[0][0][0])"
      ],
      "metadata": {
        "colab": {
          "base_uri": "https://localhost:8080/"
        },
        "id": "5Fm_x9li2udk",
        "outputId": "758b7c7c-8862-47a3-8434-aa99b8364abc"
      },
      "execution_count": null,
      "outputs": [
        {
          "output_type": "stream",
          "name": "stdout",
          "text": [
            "abc\n"
          ]
        }
      ]
    },
    {
      "cell_type": "markdown",
      "source": [
        "43.\t8. Accedeix a l’últim element de la darrera llista dins [[1, 2], [3, 4]]."
      ],
      "metadata": {
        "id": "1RDqKjsV3FQU"
      }
    },
    {
      "cell_type": "code",
      "source": [
        "a = [[1, 2], [3, 4]]\n",
        "print(a[1][1])"
      ],
      "metadata": {
        "colab": {
          "base_uri": "https://localhost:8080/"
        },
        "id": "9qL5bqvQ3HZc",
        "outputId": "2e1629aa-4939-43fe-c1fc-13f88d55cdfd"
      },
      "execution_count": null,
      "outputs": [
        {
          "output_type": "stream",
          "name": "stdout",
          "text": [
            "4\n"
          ]
        }
      ]
    },
    {
      "cell_type": "markdown",
      "source": [
        "44.\t9. Com accedir a la llista dins {\"info\": {\"detall\": [1, 2, 3]}}?"
      ],
      "metadata": {
        "id": "uCqeMEai3R4d"
      }
    },
    {
      "cell_type": "code",
      "source": [
        "a =  {\"info\": {\"detall\": [1, 2, 3]}}\n",
        "valores = a[\"info\"][\"detall\"]\n",
        "print(valores)"
      ],
      "metadata": {
        "colab": {
          "base_uri": "https://localhost:8080/"
        },
        "id": "iv_-0ai33S72",
        "outputId": "6b3367cc-b6eb-4287-a4de-f588098c442b"
      },
      "execution_count": null,
      "outputs": [
        {
          "output_type": "stream",
          "name": "stdout",
          "text": [
            "[1, 2, 3]\n"
          ]
        }
      ]
    },
    {
      "cell_type": "markdown",
      "source": [
        "45.\t10. Quin valor retorna d[\"items\"][1][\"preu\"] si d = {\"items\": [{\"preu\": 5}, {\"preu\": 10}]}?"
      ],
      "metadata": {
        "id": "DYC05rVO3xxU"
      }
    },
    {
      "cell_type": "code",
      "source": [
        "a = {\"items\": [{\"preu\": 5}, {\"preu\": 10}]}\n",
        "valor = a[\"items\"][1][\"preu\"]\n",
        "print(valor)"
      ],
      "metadata": {
        "colab": {
          "base_uri": "https://localhost:8080/"
        },
        "id": "3yC1Rxop30ZV",
        "outputId": "c064b932-6b98-45fe-d9b3-2d865dbedfbc"
      },
      "execution_count": null,
      "outputs": [
        {
          "output_type": "stream",
          "name": "stdout",
          "text": [
            "10\n"
          ]
        }
      ]
    },
    {
      "cell_type": "code",
      "source": [
        "entrada = input(\"Entra un numero y te dire si es int o decimal\")\n",
        "\n",
        "if entrada.count(\".\") == 1:\n",
        "    print(f'{entrada} es decimal')\n",
        "elif not entrada.replace('.', '', 1).isdigit():\n",
        "    print(\"Esto no es un numero\")\n",
        "else:\n",
        "    print(f'{entrada} es entero')"
      ],
      "metadata": {
        "colab": {
          "base_uri": "https://localhost:8080/"
        },
        "id": "qX5KvTVA4jTm",
        "outputId": "62a0a9bc-e9f6-4284-e6cd-5af3c410b0dc"
      },
      "execution_count": null,
      "outputs": [
        {
          "output_type": "stream",
          "name": "stdout",
          "text": [
            "Entra un numero y te dire si es int o decimal1.8908\n",
            "1.8908 es decimal\n"
          ]
        }
      ]
    },
    {
      "cell_type": "code",
      "source": [
        "entrada = input(\"Entra un numero y te dire si es int o decimal\")\n",
        "\n",
        "\n",
        "try:\n",
        "\n",
        "    if entrada.count(\".\") == 1:\n",
        "        decimal = float(entrada)\n",
        "        print(f\"{decimal} es decimal\")\n",
        "    else:\n",
        "        entero = int(entrada)\n",
        "        print(f\"{entero} es entero\")\n",
        "\n",
        "except ValueError:\n",
        "    print(f\"ValueError. {entrada} no es un numero\")\n"
      ],
      "metadata": {
        "colab": {
          "base_uri": "https://localhost:8080/"
        },
        "id": "YB6P76wuid2x",
        "outputId": "c8e12c2e-9f81-49db-85b3-8ff8a8f2e99c"
      },
      "execution_count": null,
      "outputs": [
        {
          "output_type": "stream",
          "name": "stdout",
          "text": [
            "Entra un numero y te dire si es int o decimalsf\n",
            "ValueError. sf no es un numero\n"
          ]
        }
      ]
    },
    {
      "cell_type": "markdown",
      "source": [
        "Mesures de cadena"
      ],
      "metadata": {
        "id": "rc4GpUNeyWCc"
      }
    },
    {
      "cell_type": "code",
      "source": [
        "cadena=input(\"Llegeix el que escric:\")\n",
        "print(len(cadena))\n",
        "print(min(cadena))\n",
        "print(max(cadena))"
      ],
      "metadata": {
        "colab": {
          "base_uri": "https://localhost:8080/"
        },
        "id": "3e9fAoFTyXsi",
        "outputId": "0ca51cac-45af-43d1-dc8b-4d8a6fddd48d"
      },
      "execution_count": null,
      "outputs": [
        {
          "output_type": "stream",
          "name": "stdout",
          "text": [
            "Llegeix el que escric:1431413\n",
            "7\n",
            "1\n",
            "4\n"
          ]
        }
      ]
    },
    {
      "cell_type": "markdown",
      "source": [],
      "metadata": {
        "id": "g7YHREvRyk7k"
      }
    },
    {
      "cell_type": "code",
      "source": [
        "cadena1 = \"hola \"\n",
        "cadena2 = \"com \"\n",
        "cadena3 = \"estàs?\\n\"\n",
        "cadenafinal = cadena1 + cadena2 + cadena3\n",
        "print(cadenafinal)\n",
        "\n",
        "# Què passa si ara utilitzo l'operador de multiplicació\n",
        "print(4 * cadenafinal)\n",
        "\n",
        "# Com ho puc fer perquè ho faci 4 vegades però canviant de línia\n",
        "# resulta que el canvi de línia és \\n\n",
        "print(4 * cadenafinal)\n"
      ],
      "metadata": {
        "colab": {
          "base_uri": "https://localhost:8080/"
        },
        "id": "FEaDkK7_zit7",
        "outputId": "55292a6d-812c-453b-96c8-6549f667752f"
      },
      "execution_count": null,
      "outputs": [
        {
          "output_type": "stream",
          "name": "stdout",
          "text": [
            "hola com estàs?\n",
            "\n",
            "hola com estàs?\n",
            "hola com estàs?\n",
            "hola com estàs?\n",
            "hola com estàs?\n",
            "\n",
            "hola com estàs?\n",
            "hola com estàs?\n",
            "hola com estàs?\n",
            "hola com estàs?\n",
            "\n"
          ]
        }
      ]
    },
    {
      "cell_type": "markdown",
      "source": [
        "Caracters a cadenes"
      ],
      "metadata": {
        "id": "0Qw72khaz-ej"
      }
    },
    {
      "cell_type": "code",
      "source": [
        "cadena = \"Quants caracters tinc?\"\n",
        "print(cadena.count('a'))\n",
        "print(cadena.count('t'))"
      ],
      "metadata": {
        "colab": {
          "base_uri": "https://localhost:8080/"
        },
        "id": "HLecSrJS0A5S",
        "outputId": "14eb0639-6465-43e9-939c-ad178b99e561"
      },
      "execution_count": null,
      "outputs": [
        {
          "output_type": "stream",
          "name": "stdout",
          "text": [
            "3\n",
            "3\n"
          ]
        }
      ]
    },
    {
      "cell_type": "code",
      "source": [
        "cadena = \"Quants caracters tinc?\"\n",
        "print(cadena.index('a'))\n",
        "print(cadena.index('t'))"
      ],
      "metadata": {
        "colab": {
          "base_uri": "https://localhost:8080/"
        },
        "id": "xaw3XcoE2iVE",
        "outputId": "ac2e3d9d-81c3-44f5-b80b-d1913657406d"
      },
      "execution_count": null,
      "outputs": [
        {
          "output_type": "stream",
          "name": "stdout",
          "text": [
            "2\n",
            "4\n"
          ]
        }
      ]
    },
    {
      "cell_type": "code",
      "source": [
        "cadena = \"Quants caracters tinc?\"\n",
        "print(cadena.find('a'))\n",
        "print(cadena.find('t'))"
      ],
      "metadata": {
        "colab": {
          "base_uri": "https://localhost:8080/"
        },
        "id": "4n2nSwnw2im7",
        "outputId": "2c97c2e8-4eaf-465b-c2c5-5eeac7932550"
      },
      "execution_count": null,
      "outputs": [
        {
          "output_type": "stream",
          "name": "stdout",
          "text": [
            "2\n",
            "4\n"
          ]
        }
      ]
    },
    {
      "cell_type": "code",
      "source": [
        "cadena = \"Quants caracters tinc?\"\n",
        "print(cadena.rindex('a'))\n",
        "print(cadena.rindex('t'))"
      ],
      "metadata": {
        "colab": {
          "base_uri": "https://localhost:8080/"
        },
        "id": "DRSQ8Y_a2i5b",
        "outputId": "74556182-83b1-4b6c-8a83-f760f5e9a214"
      },
      "execution_count": null,
      "outputs": [
        {
          "output_type": "stream",
          "name": "stdout",
          "text": [
            "10\n",
            "17\n"
          ]
        }
      ]
    },
    {
      "cell_type": "code",
      "source": [
        "cadena = \"Quants caracters tinc?\"\n",
        "print(cadena.rfind('a'))\n",
        "print(cadena.rfind('t'))"
      ],
      "metadata": {
        "colab": {
          "base_uri": "https://localhost:8080/"
        },
        "id": "GgXPTSta2p06",
        "outputId": "28dea464-a72e-4733-c843-a081afa1d6f3"
      },
      "execution_count": null,
      "outputs": [
        {
          "output_type": "stream",
          "name": "stdout",
          "text": [
            "10\n",
            "17\n"
          ]
        }
      ]
    },
    {
      "cell_type": "code",
      "source": [
        "cadena = \"aquesta cadena la posarem amb diferents modes de capitalitzacio\"\n",
        "cadena1 = \"Aquesta cadena la posarem amb diferents modes de capitalitzacio\"\n",
        "cadena2 = \"Aquesta cadena la posarem amb diferents modes de capitalitzacio\"\n",
        "\n",
        "print(cadena.capitalize())\n",
        "print(cadena1.lower())\n",
        "print(cadena2.upper())"
      ],
      "metadata": {
        "colab": {
          "base_uri": "https://localhost:8080/"
        },
        "id": "g5z-O79p3uuD",
        "outputId": "e8a629a5-7ead-47f3-e46a-ba5ed36edf76"
      },
      "execution_count": null,
      "outputs": [
        {
          "output_type": "stream",
          "name": "stdout",
          "text": [
            "Aquesta cadena la posarem amb diferents modes de capitalitzacio\n",
            "aquesta cadena la posarem amb diferents modes de capitalitzacio\n",
            "AQUESTA CADENA LA POSAREM AMB DIFERENTS MODES DE CAPITALITZACIO\n"
          ]
        }
      ]
    },
    {
      "cell_type": "code",
      "source": [
        "cadena = ' '.join([\"hola\",\"hala\",\"hela\"])\n",
        "print(cadena)"
      ],
      "metadata": {
        "colab": {
          "base_uri": "https://localhost:8080/"
        },
        "id": "7v_rKiTP5Er6",
        "outputId": "96b23601-8fd0-4180-b66e-ef3c3516fbcc"
      },
      "execution_count": null,
      "outputs": [
        {
          "output_type": "stream",
          "name": "stdout",
          "text": [
            "hola hala hela\n"
          ]
        }
      ]
    },
    {
      "cell_type": "code",
      "source": [
        "frase = \"Hola com estas jo be i tu?\"\n",
        "print(frase.split(\".\"))"
      ],
      "metadata": {
        "colab": {
          "base_uri": "https://localhost:8080/"
        },
        "id": "hI-LQP1953io",
        "outputId": "bb40d140-d89f-434b-c909-b58c7b87181d"
      },
      "execution_count": null,
      "outputs": [
        {
          "output_type": "stream",
          "name": "stdout",
          "text": [
            "['Hola com estas jo be i tu?']\n"
          ]
        }
      ]
    },
    {
      "cell_type": "code",
      "source": [
        "frase = \"Hola com estas jo be i tu?\"\n",
        "print(frase.partition(\" \"))"
      ],
      "metadata": {
        "colab": {
          "base_uri": "https://localhost:8080/"
        },
        "id": "nd3LB83K6cbb",
        "outputId": "04351beb-03f0-4971-8324-6fc89874c935"
      },
      "execution_count": null,
      "outputs": [
        {
          "output_type": "stream",
          "name": "stdout",
          "text": [
            "('Hola', ' ', 'com estas jo be i tu?')\n"
          ]
        }
      ]
    },
    {
      "cell_type": "code",
      "source": [
        "frase = \"Hola com estas jo be i tu?\"\n",
        "print(frase.rpartition(\" \"))"
      ],
      "metadata": {
        "colab": {
          "base_uri": "https://localhost:8080/"
        },
        "id": "RKV3g2RH6jNk",
        "outputId": "458417c1-cac4-4809-aeb5-7861b1898c6e"
      },
      "execution_count": null,
      "outputs": [
        {
          "output_type": "stream",
          "name": "stdout",
          "text": [
            "('Hola com estas jo be i', ' ', 'tu?')\n"
          ]
        }
      ]
    },
    {
      "cell_type": "code",
      "source": [
        "cadena = \"1231214456a\"\n",
        "print(sorted(cadena))\n",
        "\n",
        "ordenada1 = sorted(cadena)\n",
        "ordenada2 = sorted(cadena,reverse=True)\n",
        "\n",
        "print(cadena,'-'.join(ordenada1))\n",
        "print(cadena,'-'.join(ordenada2))"
      ],
      "metadata": {
        "colab": {
          "base_uri": "https://localhost:8080/"
        },
        "id": "HP5QzpQm7Hnl",
        "outputId": "29905d65-4b50-48e4-9aea-ac73f0ae6419"
      },
      "execution_count": null,
      "outputs": [
        {
          "output_type": "stream",
          "name": "stdout",
          "text": [
            "['1', '1', '1', '2', '2', '3', '4', '4', '5', '6', 'a']\n",
            "1231214456a 1-1-1-2-2-3-4-4-5-6-a\n",
            "1231214456a a-6-5-4-4-3-2-2-1-1-1\n"
          ]
        }
      ]
    },
    {
      "cell_type": "code",
      "source": [
        "print(f\"la cadena {cadena} en mayusculas es {cadena.upper()}, \\n en minusculas es {cadena.lower()}\\n y capitalizando es {cadena.capitalize()} \")"
      ],
      "metadata": {
        "colab": {
          "base_uri": "https://localhost:8080/"
        },
        "id": "8P5y7x4i7-kM",
        "outputId": "6b406926-84ec-4636-df54-c0b28d0e4b67"
      },
      "execution_count": null,
      "outputs": [
        {
          "output_type": "stream",
          "name": "stdout",
          "text": [
            "la cadena bye bye picolisimo en mayusculas es BYE BYE PICOLISIMO, \n",
            " en minusculas es bye bye picolisimo\n",
            " y capitalizando es Bye bye picolisimo \n"
          ]
        }
      ]
    },
    {
      "cell_type": "code",
      "source": [
        "cadena = \"barcelona\"\n",
        "\n",
        "print(f\"Capital: {cadena.capitalize()} = {cadena.lower()} = {cadena.upper()}\")\n"
      ],
      "metadata": {
        "colab": {
          "base_uri": "https://localhost:8080/"
        },
        "id": "7XJhZtQzCoKN",
        "outputId": "28e29ded-7664-4cd4-db12-8bb75144b8ca"
      },
      "execution_count": null,
      "outputs": [
        {
          "output_type": "stream",
          "name": "stdout",
          "text": [
            "Capital: Barcelona = barcelona = BARCELONA\n"
          ]
        }
      ]
    },
    {
      "cell_type": "code",
      "source": [
        "cadena2 = \"barcelona\"\n",
        "\n",
        "cadena2.capitalize()\n",
        "print(cadena2.capitalize())\n",
        "print(cadena2)"
      ],
      "metadata": {
        "colab": {
          "base_uri": "https://localhost:8080/"
        },
        "id": "avgzj3GqCt3z",
        "outputId": "ecf36098-e0d5-47bd-edd8-b73739afd2ce"
      },
      "execution_count": null,
      "outputs": [
        {
          "output_type": "stream",
          "name": "stdout",
          "text": [
            "Barcelona\n",
            "barcelona\n"
          ]
        }
      ]
    },
    {
      "cell_type": "code",
      "source": [
        "llista = [1, 2, -3, 5]\n",
        "llista.sort()\n",
        "print(llista)"
      ],
      "metadata": {
        "colab": {
          "base_uri": "https://localhost:8080/"
        },
        "id": "CZcjPjoxHb_C",
        "outputId": "2d0caa05-e5ab-4aab-c487-895ee87e6521"
      },
      "execution_count": null,
      "outputs": [
        {
          "output_type": "stream",
          "name": "stdout",
          "text": [
            "[-3, 1, 2, 5]\n"
          ]
        }
      ]
    },
    {
      "cell_type": "code",
      "source": [
        "ord(\"$\")"
      ],
      "metadata": {
        "colab": {
          "base_uri": "https://localhost:8080/"
        },
        "id": "o-5Za5WxchCw",
        "outputId": "0d7be368-55a4-424d-880e-bac350952ac6"
      },
      "execution_count": null,
      "outputs": [
        {
          "output_type": "execute_result",
          "data": {
            "text/plain": [
              "36"
            ]
          },
          "metadata": {},
          "execution_count": 25
        }
      ]
    },
    {
      "cell_type": "code",
      "source": [
        "chr(36)"
      ],
      "metadata": {
        "colab": {
          "base_uri": "https://localhost:8080/",
          "height": 35
        },
        "id": "Xntrwt5icuJQ",
        "outputId": "0b36aec0-05bc-49a7-b180-aec078fb0f5a"
      },
      "execution_count": null,
      "outputs": [
        {
          "output_type": "execute_result",
          "data": {
            "text/plain": [
              "'$'"
            ],
            "application/vnd.google.colaboratory.intrinsic+json": {
              "type": "string"
            }
          },
          "metadata": {},
          "execution_count": 23
        }
      ]
    },
    {
      "cell_type": "code",
      "source": [
        "for ordinal in range(0,257):\n",
        "    print(ordinal, chr(ordinal ))"
      ],
      "metadata": {
        "colab": {
          "base_uri": "https://localhost:8080/"
        },
        "id": "qvIaI--9e6mW",
        "outputId": "87306094-796d-49e9-d6c8-2290904fc1ef"
      },
      "execution_count": null,
      "outputs": [
        {
          "output_type": "stream",
          "name": "stdout",
          "text": [
            "0 \u0000\n",
            "1 \u0001\n",
            "2 \u0002\n",
            "3 \u0003\n",
            "4 \u0004\n",
            "5 \u0005\n",
            "6 \u0006\n",
            "7 \u0007\n",
            "8 \b\n",
            "9 \t\n",
            "10 \n",
            "\n",
            "11 \u000b\n",
            "12 \f\n",
            "13 \r\n",
            "14 \u000e\n",
            "15 \u000f\n",
            "16 \u0010\n",
            "17 \u0011\n",
            "18 \u0012\n",
            "19 \u0013\n",
            "20 \u0014\n",
            "21 \u0015\n",
            "22 \u0016\n",
            "23 \u0017\n",
            "24 \u0018\n",
            "25 \u0019\n",
            "26 \u001a\n",
            "27 \u001b\n",
            "28 \u001c\n",
            "29 \u001d\n",
            "30 \u001e\n",
            "31 \u001f\n",
            "32  \n",
            "33 !\n",
            "34 \"\n",
            "35 #\n",
            "36 $\n",
            "37 %\n",
            "38 &\n",
            "39 '\n",
            "40 (\n",
            "41 )\n",
            "42 *\n",
            "43 +\n",
            "44 ,\n",
            "45 -\n",
            "46 .\n",
            "47 /\n",
            "48 0\n",
            "49 1\n",
            "50 2\n",
            "51 3\n",
            "52 4\n",
            "53 5\n",
            "54 6\n",
            "55 7\n",
            "56 8\n",
            "57 9\n",
            "58 :\n",
            "59 ;\n",
            "60 <\n",
            "61 =\n",
            "62 >\n",
            "63 ?\n",
            "64 @\n",
            "65 A\n",
            "66 B\n",
            "67 C\n",
            "68 D\n",
            "69 E\n",
            "70 F\n",
            "71 G\n",
            "72 H\n",
            "73 I\n",
            "74 J\n",
            "75 K\n",
            "76 L\n",
            "77 M\n",
            "78 N\n",
            "79 O\n",
            "80 P\n",
            "81 Q\n",
            "82 R\n",
            "83 S\n",
            "84 T\n",
            "85 U\n",
            "86 V\n",
            "87 W\n",
            "88 X\n",
            "89 Y\n",
            "90 Z\n",
            "91 [\n",
            "92 \\\n",
            "93 ]\n",
            "94 ^\n",
            "95 _\n",
            "96 `\n",
            "97 a\n",
            "98 b\n",
            "99 c\n",
            "100 d\n",
            "101 e\n",
            "102 f\n",
            "103 g\n",
            "104 h\n",
            "105 i\n",
            "106 j\n",
            "107 k\n",
            "108 l\n",
            "109 m\n",
            "110 n\n",
            "111 o\n",
            "112 p\n",
            "113 q\n",
            "114 r\n",
            "115 s\n",
            "116 t\n",
            "117 u\n",
            "118 v\n",
            "119 w\n",
            "120 x\n",
            "121 y\n",
            "122 z\n",
            "123 {\n",
            "124 |\n",
            "125 }\n",
            "126 ~\n",
            "127 \n",
            "128 \n",
            "129 \n",
            "130 \n",
            "131 \n",
            "132 \n",
            "133 \n",
            "134 \n",
            "135 \n",
            "136 \n",
            "137 \n",
            "138 \n",
            "139 \n",
            "140 \n",
            "141 \n",
            "142 \n",
            "143 \n",
            "144 \n",
            "145 \n",
            "146 \n",
            "147 \n",
            "148 \n",
            "149 \n",
            "150 \n",
            "151 \n",
            "152 \n",
            "153 \n",
            "154 \n",
            "155 \n",
            "156 \n",
            "157 \n",
            "158 \n",
            "159 \n",
            "160  \n",
            "161 ¡\n",
            "162 ¢\n",
            "163 £\n",
            "164 ¤\n",
            "165 ¥\n",
            "166 ¦\n",
            "167 §\n",
            "168 ¨\n",
            "169 ©\n",
            "170 ª\n",
            "171 «\n",
            "172 ¬\n",
            "173 ­\n",
            "174 ®\n",
            "175 ¯\n",
            "176 °\n",
            "177 ±\n",
            "178 ²\n",
            "179 ³\n",
            "180 ´\n",
            "181 µ\n",
            "182 ¶\n",
            "183 ·\n",
            "184 ¸\n",
            "185 ¹\n",
            "186 º\n",
            "187 »\n",
            "188 ¼\n",
            "189 ½\n",
            "190 ¾\n",
            "191 ¿\n",
            "192 À\n",
            "193 Á\n",
            "194 Â\n",
            "195 Ã\n",
            "196 Ä\n",
            "197 Å\n",
            "198 Æ\n",
            "199 Ç\n",
            "200 È\n",
            "201 É\n",
            "202 Ê\n",
            "203 Ë\n",
            "204 Ì\n",
            "205 Í\n",
            "206 Î\n",
            "207 Ï\n",
            "208 Ð\n",
            "209 Ñ\n",
            "210 Ò\n",
            "211 Ó\n",
            "212 Ô\n",
            "213 Õ\n",
            "214 Ö\n",
            "215 ×\n",
            "216 Ø\n",
            "217 Ù\n",
            "218 Ú\n",
            "219 Û\n",
            "220 Ü\n",
            "221 Ý\n",
            "222 Þ\n",
            "223 ß\n",
            "224 à\n",
            "225 á\n",
            "226 â\n",
            "227 ã\n",
            "228 ä\n",
            "229 å\n",
            "230 æ\n",
            "231 ç\n",
            "232 è\n",
            "233 é\n",
            "234 ê\n",
            "235 ë\n",
            "236 ì\n",
            "237 í\n",
            "238 î\n",
            "239 ï\n",
            "240 ð\n",
            "241 ñ\n",
            "242 ò\n",
            "243 ó\n",
            "244 ô\n",
            "245 õ\n",
            "246 ö\n",
            "247 ÷\n",
            "248 ø\n",
            "249 ù\n",
            "250 ú\n",
            "251 û\n",
            "252 ü\n",
            "253 ý\n",
            "254 þ\n",
            "255 ÿ\n",
            "256 Ā\n"
          ]
        }
      ]
    },
    {
      "cell_type": "code",
      "source": [
        "cadena =\"Barcelona es bona si la bossa sona\"\n",
        "\n",
        "print(cadena[0], cadena[len(cadena)-1])"
      ],
      "metadata": {
        "colab": {
          "base_uri": "https://localhost:8080/"
        },
        "id": "3Z8RUolmhYun",
        "outputId": "64b9fff2-5ebd-4352-c0bb-da8c9836ee43"
      },
      "execution_count": null,
      "outputs": [
        {
          "output_type": "stream",
          "name": "stdout",
          "text": [
            "B a\n"
          ]
        }
      ]
    },
    {
      "cell_type": "code",
      "source": [
        "cadena = \"Barcelona\"\n",
        "print(cadena[0:8])"
      ],
      "metadata": {
        "colab": {
          "base_uri": "https://localhost:8080/"
        },
        "id": "18OPbnKQ9vo1",
        "outputId": "668ef32b-5f66-4b3b-cf0f-b383ca5d52a1"
      },
      "execution_count": null,
      "outputs": [
        {
          "output_type": "stream",
          "name": "stdout",
          "text": [
            "Barcelon\n"
          ]
        }
      ]
    },
    {
      "cell_type": "code",
      "source": [
        "cadena = \"Barcelona\"\n",
        "\n",
        "# print(cadena[:-1])\n",
        "print(cadena[0:len(cadena) -1])"
      ],
      "metadata": {
        "colab": {
          "base_uri": "https://localhost:8080/"
        },
        "id": "Pkyc6pdL-CMa",
        "outputId": "0e64b325-813c-4082-9613-971f1014f2da"
      },
      "execution_count": null,
      "outputs": [
        {
          "output_type": "stream",
          "name": "stdout",
          "text": [
            "Barcelon\n"
          ]
        }
      ]
    },
    {
      "cell_type": "code",
      "source": [
        "cadena =  \"Barcelona\"\n",
        "print(cadena[:])"
      ],
      "metadata": {
        "colab": {
          "base_uri": "https://localhost:8080/"
        },
        "id": "9wZj26v6ES68",
        "outputId": "1d1a92ec-52bb-48d7-c01d-7d82cea3338f"
      },
      "execution_count": null,
      "outputs": [
        {
          "output_type": "stream",
          "name": "stdout",
          "text": [
            "arce\n"
          ]
        }
      ]
    },
    {
      "cell_type": "code",
      "source": [
        "cadena = \"Barcelona\"\n",
        "\n",
        "caracter = input(\"Entra caracter:\")\n",
        "\n",
        "if cadena.rfind(caracter) == -1:\n",
        "    print(f\"El caracter {caracter} no esta en la cadena\")\n",
        "else:\n",
        "    print(f\"El caracter {caracter} esta en la posicion {cadena.find(caracter)}\")"
      ],
      "metadata": {
        "colab": {
          "base_uri": "https://localhost:8080/"
        },
        "id": "sj4k27leHNx0",
        "outputId": "e17b86ea-5a34-4316-d93c-caecea93d908"
      },
      "execution_count": null,
      "outputs": [
        {
          "output_type": "stream",
          "name": "stdout",
          "text": [
            "Entra caracter:a\n",
            "El caracter a esta en la posicion 1\n"
          ]
        }
      ]
    },
    {
      "cell_type": "code",
      "source": [
        "cadena = 'Anacleto'\n",
        "temp = cadena\n",
        "\n",
        "absoluta = 0\n",
        "\n",
        "while \"a\" in temp:\n",
        "\n",
        "    pos1 = temp.lower().find(\"a\")\n",
        "    temp = temp[pos1 + 1:]\n",
        "    absoluta = absoluta + pos1\n",
        "\n",
        "    print(absoluta,temp)\n",
        "\n",
        "    absoluta += 1\n",
        "\n",
        "print(cadena)"
      ],
      "metadata": {
        "id": "QzhWrQbfI5si",
        "colab": {
          "base_uri": "https://localhost:8080/"
        },
        "outputId": "5b20dd32-8046-413d-fe81-9e3bf16f7252"
      },
      "execution_count": null,
      "outputs": [
        {
          "output_type": "stream",
          "name": "stdout",
          "text": [
            "0 nacleto\n",
            "2 cleto\n",
            "Anacleto\n"
          ]
        }
      ]
    },
    {
      "cell_type": "code",
      "source": [
        "a = 10\n",
        "a += 2\n",
        "a -= 2\n",
        "a *= 2\n",
        "a /= 2\n"
      ],
      "metadata": {
        "id": "0o2HC1Eyah3t"
      },
      "execution_count": null,
      "outputs": []
    },
    {
      "cell_type": "code",
      "source": [
        "#range(inicial , final, step)\n",
        "print(range(10, 0 ,-1))\n"
      ],
      "metadata": {
        "colab": {
          "base_uri": "https://localhost:8080/"
        },
        "id": "2Iv2uDbrcCMB",
        "outputId": "cac82bac-406e-409e-ff37-b8e96b4ba0ac"
      },
      "execution_count": null,
      "outputs": [
        {
          "output_type": "stream",
          "name": "stdout",
          "text": [
            "range(10, 0, -1)\n"
          ]
        }
      ]
    },
    {
      "cell_type": "code",
      "source": [
        "\n",
        "\n",
        "\n",
        "if posicion % 2 == 0:\n",
        "        print(cadena[posicion])"
      ],
      "metadata": {
        "id": "y3dXCATgCPiH"
      },
      "execution_count": null,
      "outputs": []
    }
  ]
}